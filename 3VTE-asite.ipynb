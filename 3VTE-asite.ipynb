{
 "nbformat": 4,
 "nbformat_minor": 2,
 "metadata": {
  "language_info": {
   "name": "python",
   "codemirror_mode": {
    "name": "ipython",
    "version": 3
   },
   "version": "3.6.10-final"
  },
  "orig_nbformat": 2,
  "file_extension": ".py",
  "mimetype": "text/x-python",
  "name": "python",
  "npconvert_exporter": "python",
  "pygments_lexer": "ipython3",
  "version": 3,
  "kernelspec": {
   "name": "python361064bitqcmmcondac19dda4244fb4a8d8a50fb39055fedc3",
   "display_name": "Python 3.6.10 64-bit ('qcmm': conda)"
  }
 },
 "cells": [
  {
   "cell_type": "code",
   "execution_count": null,
   "metadata": {},
   "outputs": [],
   "source": [
    "# The following C=C double-bonds in CBGA.pdb were manually placed using Avogadro\n",
    "# # C14 - C15\n",
    "# # C19 - C20"
   ]
  },
  {
   "cell_type": "code",
   "execution_count": null,
   "metadata": {},
   "outputs": [],
   "source": [
    "%%bash\n",
    "antechamber -fi pdb -i CBGA.pdb -fo mol2 -o CBGA.gaff.mol2 -rn CBG1 -c bcc -at gaff2 -j 4 -pf y\n",
    "parmchk2 -i CBGA.gaff.mol2 -f mol2 -o CBGA.frcmod -s 2"
   ]
  },
  {
   "cell_type": "code",
   "execution_count": null,
   "metadata": {},
   "outputs": [],
   "source": [
    "%%bash\n",
    "antechamber -fi pdb -i FAD.pdb -fo mol2 -o FAD.gaff.mol2 -rn FAD -c bcc -at gaff2 -j 4 -pf y\n",
    "parmchk2 -i FAD.gaff.mol2 -f mol2 -o FAD.frcmod -s 2"
   ]
  },
  {
   "cell_type": "code",
   "execution_count": null,
   "metadata": {},
   "outputs": [],
   "source": [
    "!pdb4amber -i ASITE.pdb -o ASITE.4amber.pdb -d -y"
   ]
  },
  {
   "cell_type": "code",
   "execution_count": null,
   "metadata": {},
   "outputs": [],
   "source": [
    "!tleap -f ASITE.lib.in"
   ]
  },
  {
   "cell_type": "code",
   "execution_count": null,
   "metadata": {},
   "outputs": [],
   "source": [
    "!tleap -f complex.in"
   ]
  },
  {
   "cell_type": "code",
   "execution_count": null,
   "metadata": {},
   "outputs": [],
   "source": [
    "from parmed import load_file\n",
    "mdsim = load_file('complex.prmtop', 'complex.inpcrd')\n",
    "mdsim.save('complex.pdb')"
   ]
  },
  {
   "cell_type": "code",
   "execution_count": null,
   "metadata": {},
   "outputs": [],
   "source": [
    "!sander -O -i md.in -o md.out -p complex.prmtop -c complex.inpcrd -r md_qmmm.rst -x md_qmmm.mdcrd"
   ]
  }
 ]
}