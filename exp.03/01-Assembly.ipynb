{
 "metadata": {
  "language_info": {
   "codemirror_mode": {
    "name": "ipython",
    "version": 3
   },
   "file_extension": ".py",
   "mimetype": "text/x-python",
   "name": "python",
   "nbconvert_exporter": "python",
   "pygments_lexer": "ipython3",
   "version": "3.6.11-final"
  },
  "orig_nbformat": 2,
  "kernelspec": {
   "name": "Python 3.6.11 64-bit ('qcmm': conda)",
   "display_name": "Python 3.6.11 64-bit ('qcmm': conda)",
   "metadata": {
    "interpreter": {
     "hash": "e48c9bfdccfbfe7b296ff3c837069cd72899fd94f29d974904d2d6b5927ea76d"
    }
   }
  }
 },
 "nbformat": 4,
 "nbformat_minor": 2,
 "cells": [
  {
   "cell_type": "code",
   "execution_count": 1,
   "metadata": {
    "tags": []
   },
   "outputs": [],
   "source": [
    "# # # Error: Path resolution\n",
    "# %%bash\n",
    "\n",
    "# outd=\"$(pwd)\"\n",
    "# cgud=\"../structures/charmm-gui/jobid-0147660438\"\n",
    "\n",
    "# cd \"${cgud}\"\n",
    "# echo \"$(pwd)\"\n",
    "# python openmm/openmm_run.py \\\n",
    "#     -i \"$(pwd)/step5_production.inp\" \\\n",
    "#     -p \"$(pwd)/step3_pbcsetup.psf\" \\\n",
    "#     -c \"$(pwd)/step3_pbcsetup.crd\" \\\n",
    "#     -b \"$(pwd)/step3_pbcsetup.str\" \\\n",
    "#     -t \"$(pwd)/toppar.str\" \\\n",
    "#     -odcd \"${outd}/3vte_apo.cgui.dcd\" \\\n",
    "#     -opdb \"${outd}/3vte_apo.cgui.pdb\" \\\n",
    "#     -hmr "
   ]
  },
  {
   "cell_type": "code",
   "execution_count": 8,
   "metadata": {
    "tags": []
   },
   "outputs": [
    {
     "output_type": "stream",
     "name": "stdout",
     "text": "\nWelcome to antechamber 20.0: molecular input file processor.\n\nacdoctor mode is on: check and diagnose problems in the input file.\n-- Check Format for pdb File --\n   Status: pass\n-- Check Unusual Elements --\n   Status: pass\n-- Check Open Valences --\n   Status: pass\n-- Check Geometry --\n      for those bonded   \n      for those not bonded   \n   Status: pass\n-- Check Weird Bonds --\n   Status: pass\n-- Check Number of Units --\n   Status: pass\nacdoctor mode has completed checking the input file.\n\nInfo: Total number of electrons: 196; net charge: -1\n\nRunning: /Users/sethmartinez/opt/anaconda3/envs/qcmm/bin/sqm -O -i sqm.in -o sqm.out\n\n1 molecule converted\n1 molecule converted\n"
    }
   ],
   "source": [
    "%%bash\n",
    "\n",
    "# # Parameterize CBGA COO(-)\n",
    "antechamber \\\n",
    "    -fi pdb -i ../structures/CBGA.COO.DOCK.1.61.pdb \\\n",
    "    -fo mol2 -o ./CBGA.COO.1.61.gaff.mol2 \\\n",
    "    -rn LIG -c bcc -at gaff2 -j 4 -pf y \\\n",
    "    -nc -1\n",
    "parmchk2 \\\n",
    "    -i ./CBGA.COO.1.61.gaff.mol2 \\\n",
    "    -f mol2 -o CBGA.COO.1.61.frcmod -s 2\n",
    "\n",
    "# # Make local copies\n",
    "obabel \\\n",
    "    -imol2 ../structures/CBGA.COO.DOCK.1.61.mol2 \\\n",
    "    -osdf > LIG.sdf\n",
    "obabel \\\n",
    "    -imol2 ../structures/CBGA.COO.DOCK.1.61.mol2 \\\n",
    "    -opdb > LIG.pdb"
   ]
  },
  {
   "cell_type": "code",
   "execution_count": 3,
   "metadata": {
    "tags": []
   },
   "outputs": [
    {
     "output_type": "stream",
     "name": "stderr",
     "text": "Warning: Unable to load toolkit &#39;OpenEye Toolkit&#39;. The Open Force Field Toolkit does not require the OpenEye Toolkits, and can use RDKit/AmberTools instead. However, if you have a valid license for the OpenEye Toolkits, consider installing them for faster performance and additional file format support: https://docs.eyesopen.com/toolkits/python/quickstart-python/linuxosx.html OpenEye offers free Toolkit licenses for academics: https://www.eyesopen.com/academic-licensing\n"
    },
    {
     "output_type": "display_data",
     "data": {
      "text/plain": "",
      "application/vnd.jupyter.widget-view+json": {
       "version_major": 2,
       "version_minor": 0,
       "model_id": "7cef5435fbba47c997bbc7809520bbe2"
      }
     },
     "metadata": {}
    }
   ],
   "source": [
    "import parmed as pmd\n",
    "\n",
    "from simtk import openmm, unit\n",
    "from simtk.openmm import app, LangevinIntegrator\n",
    "from simtk.openmm.app import PDBFile, NoCutoff, HBonds\n",
    "\n",
    "from openforcefield.topology import Molecule\n",
    "from openmmforcefields.generators import SystemGenerator\n",
    "from openforcefield.typing.engines.smirnoff import ForceField\n",
    "\n",
    "# # Load Parsley force field\n",
    "offLIG_ff = ForceField('openff-1.2.1.offxml')\n",
    "\n",
    "ommCBGA = PDBFile('LIG.pdb')\n",
    "molCBGA = Molecule('LIG.sdf')\n",
    "ligand_system = offLIG_ff.create_openmm_system(\n",
    "    molCBGA.to_topology())\n",
    "pmdCBGA = pmd.openmm.load_topology(\n",
    "    ommCBGA.topology,\n",
    "    ligand_system,\n",
    "    xyz=ommCBGA.positions)"
   ]
  },
  {
   "cell_type": "code",
   "execution_count": 5,
   "metadata": {
    "tags": []
   },
   "outputs": [
    {
     "output_type": "stream",
     "name": "stderr",
     "text": "/Users/sethmartinez/opt/anaconda3/envs/qcmm/lib/python3.6/site-packages/parmed/openmm/topsystem.py:187: OpenMMWarning: Unsupported Force type CustomNonbondedForce\n  warnings.warn(&#39;Unsupported Force type %s&#39; % type(force).__name__, OpenMMWarning)\n"
    }
   ],
   "source": [
    "# from parmed import Structure, topologyobjects, load_file\n",
    "# from parmed.exceptions import ParameterError\n",
    "# crd3 = load_file(f'{parmslug}.rst7')\n",
    "# parm3 = readparm.LoadParm(f'{parmslug}.parm7', xyz=crd3.coordinates)\n",
    "\n",
    "# # Load the Amber restart from CHARMM-GUI's glycan modeller\n",
    "prmslug = '../structures/charmm-gui/jobid-0147660438/amber/step3_input'\n",
    "prm3VTE = pmd.amber.AmberParm(\n",
    "    f'{prmslug}.parm7', f'{prmslug}.rst7')\n",
    "apo_system = prm3VTE.createSystem()\n",
    "\n",
    "# # Apo-enzyme in octahedral water, d=10\n",
    "pmd3VTE = pmd.openmm.load_topology(\n",
    "    prm3VTE.topology,\n",
    "    apo_system,\n",
    "    xyz=prm3VTE.positions)"
   ]
  },
  {
   "cell_type": "code",
   "execution_count": 7,
   "metadata": {},
   "outputs": [
    {
     "output_type": "display_data",
     "data": {
      "text/plain": "NGLWidget()",
      "application/vnd.jupyter.widget-view+json": {
       "version_major": 2,
       "version_minor": 0,
       "model_id": "ef9b3b45a9554165b10961f3289871d8"
      }
     },
     "metadata": {}
    }
   ],
   "source": [
    "# # Holo-enzyme\n",
    "pmdCPLX = pmd3VTE + pmdCBGA\n",
    "pmdCPLX.visualize()"
   ]
  },
  {
   "cell_type": "code",
   "execution_count": null,
   "metadata": {},
   "outputs": [],
   "source": [
    "# # # Dummy simulation\n",
    "# integrator = LangevinIntegrator(\n",
    "#     302.5*unit.kelvin, \n",
    "#     1/unit.picosecond, \n",
    "#     0.002*unit.picoseconds)\n",
    "\n",
    "# simulation = app.Simulation(\n",
    "#   pmdCPLX.topology, pmdCPLX.getPositions(), integrator)\n",
    "# simulation.context.setPositions(pmdCPLX.positions)\n",
    "# simulation.minimizeEnergy()"
   ]
  }
 ]
}