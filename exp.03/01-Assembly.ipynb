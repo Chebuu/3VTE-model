{
 "metadata": {
  "language_info": {
   "codemirror_mode": {
    "name": "ipython",
    "version": 3
   },
   "file_extension": ".py",
   "mimetype": "text/x-python",
   "name": "python",
   "nbconvert_exporter": "python",
   "pygments_lexer": "ipython3",
   "version": "3.6.11-final"
  },
  "orig_nbformat": 2,
  "kernelspec": {
   "name": "Python 3.6.11 64-bit ('qcmm': conda)",
   "display_name": "Python 3.6.11 64-bit ('qcmm': conda)",
   "metadata": {
    "interpreter": {
     "hash": "e48c9bfdccfbfe7b296ff3c837069cd72899fd94f29d974904d2d6b5927ea76d"
    }
   }
  }
 },
 "nbformat": 4,
 "nbformat_minor": 2,
 "cells": [
  {
   "cell_type": "code",
   "execution_count": 1,
   "metadata": {
    "tags": []
   },
   "outputs": [],
   "source": [
    "# # # Error: Path resolution\n",
    "# # %%bash\n",
    "\n",
    "# # outd=\"$(pwd)\"\n",
    "# # cgud=\"../structures/charmm-gui/jobid-0147660438\"\n",
    "\n",
    "# # cd \"${cgud}\"\n",
    "# # echo \"$(pwd)\"\n",
    "# # python openmm/openmm_run.py \\\n",
    "# #     -i \"$(pwd)/step5_production.inp\" \\\n",
    "# #     -p \"$(pwd)/step3_pbcsetup.psf\" \\\n",
    "# #     -c \"$(pwd)/step3_pbcsetup.crd\" \\\n",
    "# #     -b \"$(pwd)/step3_pbcsetup.str\" \\\n",
    "# #     -t \"$(pwd)/toppar.str\" \\\n",
    "# #     -odcd \"${outd}/3vte_apo.cgui.dcd\" \\\n",
    "# #     -opdb \"${outd}/3vte_apo.cgui.pdb\" \\\n",
    "# #     -hmr "
   ]
  },
  {
   "cell_type": "code",
   "execution_count": 2,
   "metadata": {
    "tags": []
   },
   "outputs": [
    {
     "output_type": "stream",
     "name": "stderr",
     "text": "1 molecule converted\n1 molecule converted\n"
    }
   ],
   "source": [
    "%%bash\n",
    "\n",
    "# # Parameterize CBGA COO(-)\n",
    "# antechamber \\\n",
    "#     -fi pdb -i ../structures/CBGA.COO.DOCK.1.61.pdb \\\n",
    "#     -fo mol2 -o ./CBGA.COO.1.61.gaff.mol2 \\\n",
    "#     -rn LIG -c bcc -at gaff2 -j 4 -pf y \\\n",
    "#     -nc -1\n",
    "# parmchk2 \\\n",
    "#     -i ./CBGA.COO.1.61.gaff.mol2 \\\n",
    "#     -f mol2 -o CBGA.COO.1.61.frcmod -s 2\n",
    "\n",
    "# # Make local copies\n",
    "obabel \\\n",
    "    -imol2 ../structures/CBGA.COO.DOCK.1.61.mol2 \\\n",
    "    -osdf > LIG.sdf\n",
    "obabel \\\n",
    "    -imol2 ../structures/CBGA.COO.DOCK.1.61.mol2 \\\n",
    "    -opdb > LIG.pdb"
   ]
  },
  {
   "cell_type": "code",
   "execution_count": 3,
   "metadata": {
    "tags": []
   },
   "outputs": [],
   "source": [
    "%%capture\n",
    "\n",
    "import mdtraj as md\n",
    "import parmed as pmd\n",
    "\n",
    "from simtk import openmm, unit\n",
    "from simtk.openmm import app, LangevinIntegrator\n",
    "from simtk.openmm.app import PME, NoCutoff, HBonds\n",
    "\n",
    "from openforcefield.topology import Molecule\n",
    "from openmmforcefields.generators import SystemGenerator\n",
    "from openforcefield.typing.engines.smirnoff import ForceField\n",
    "\n",
    "# # Load the Amber restart from CHARMM-GUI's glycan modeller\n",
    "prmslug = '../structures/charmm-gui/jobid-0147660438/amber/step3_input'\n",
    "prm3VTE = pmd.amber.AmberParm(\n",
    "    f'{prmslug}.parm7', f'{prmslug}.rst7')\n",
    "apo_system = prm3VTE.createSystem()\n",
    "\n",
    "# # Apo-enzyme in octahedral water, d=10\n",
    "pmd3VTE = pmd.openmm.load_topology(\n",
    "    prm3VTE.topology,\n",
    "    apo_system,\n",
    "    xyz=prm3VTE.positions)\n",
    "\n",
    "# # Load Parsley force field\n",
    "offLIG_ff = ForceField('openff-1.2.1.offxml')\n",
    "\n",
    "# # Parameterize CBGA\n",
    "molCBGA = Molecule('LIG.sdf')\n",
    "ligand_system = offLIG_ff.create_openmm_system(\n",
    "    molCBGA.to_topology())\n",
    "\n",
    "# # Docked CBGA carboxylate\n",
    "ommCBGA = md.load('LIG.pdb')\n",
    "ommCBGA.xyz[:,:,1:3] += [0.65,8.65] # Hacky realignment\n",
    "# ommCBGA.xyz[:,:,0:3] *= [-1,-1,-1] # Hacky realignment\n",
    "pmdCBGA = pmd.openmm.load_topology(\n",
    "    ommCBGA.top.to_openmm(),\n",
    "    ligand_system,\n",
    "    xyz=ommCBGA.openmm_positions(0))"
   ]
  },
  {
   "cell_type": "code",
   "execution_count": 4,
   "metadata": {},
   "outputs": [
    {
     "output_type": "display_data",
     "data": {
      "text/plain": "NGLWidget()",
      "application/vnd.jupyter.widget-view+json": {
       "version_major": 2,
       "version_minor": 0,
       "model_id": "b24e6c95cbbd45c88edeed18dafc6b80"
      }
     },
     "metadata": {}
    }
   ],
   "source": [
    "# # Holo-enzyme\n",
    "pmdCPLX = pmd3VTE + pmdCBGA\n",
    "\n",
    "pmdCPLX.save('complex.pdb', overwrite=True)\n",
    "pmdCPLX.save('complex.rst7', overwrite=True)\n",
    "\n",
    "pmdCPLX.visualize()"
   ]
  },
  {
   "cell_type": "code",
   "execution_count": 5,
   "metadata": {},
   "outputs": [
    {
     "output_type": "error",
     "ename": "ParameterError",
     "evalue": "Cannot find necessary parameters",
     "traceback": [
      "\u001b[0;31m---------------------------------------------------------------------------\u001b[0m",
      "\u001b[0;31mParameterError\u001b[0m                            Traceback (most recent call last)",
      "\u001b[0;32m&lt;ipython-input-5-fe991a2e26be&gt;\u001b[0m in \u001b[0;36m&lt;module&gt;\u001b[0;34m\u001b[0m\n\u001b[1;32m      6\u001b[0m \u001b[0;34m\u001b[0m\u001b[0m\n\u001b[1;32m      7\u001b[0m \u001b[0;31m# # # Need to set box. See omm_readparams.py\u001b[0m\u001b[0;34m\u001b[0m\u001b[0;34m\u001b[0m\u001b[0;34m\u001b[0m\u001b[0m\n\u001b[0;32m----&gt; 8\u001b[0;31m \u001b[0mcomplex_system\u001b[0m \u001b[0;34m=\u001b[0m \u001b[0mpmdCPLX\u001b[0m\u001b[0;34m.\u001b[0m\u001b[0mcreateSystem\u001b[0m\u001b[0;34m(\u001b[0m\u001b[0;34m&quot;&quot;&quot;Extracted CHARMM-GUI parameters&quot;&quot;&quot;\u001b[0m\u001b[0;34m)\u001b[0m\u001b[0;34m\u001b[0m\u001b[0;34m\u001b[0m\u001b[0m\n\u001b[0m\u001b[1;32m      9\u001b[0m \u001b[0;34m\u001b[0m\u001b[0m\n\u001b[1;32m     10\u001b[0m simulation = app.Simulation(\n",
      "\u001b[0;32m~/opt/anaconda3/envs/qcmm/lib/python3.6/site-packages/parmed/utils/decorators.py\u001b[0m in \u001b[0;36mnew_fcn\u001b[0;34m(*args, **kwargs)\u001b[0m\n\u001b[1;32m     29\u001b[0m         \u001b[0;32mif\u001b[0m \u001b[0;32mnot\u001b[0m \u001b[0mSUPPORTED_VERSION\u001b[0m\u001b[0;34m:\u001b[0m\u001b[0;34m\u001b[0m\u001b[0;34m\u001b[0m\u001b[0m\n\u001b[1;32m     30\u001b[0m             \u001b[0;32mraise\u001b[0m \u001b[0mImportError\u001b[0m\u001b[0;34m(\u001b[0m\u001b[0;34m&#39;You must have at least OpenMM 6.3 installed&#39;\u001b[0m\u001b[0;34m)\u001b[0m\u001b[0;34m\u001b[0m\u001b[0;34m\u001b[0m\u001b[0m\n\u001b[0;32m---&gt; 31\u001b[0;31m         \u001b[0;32mreturn\u001b[0m \u001b[0mfcn\u001b[0m\u001b[0;34m(\u001b[0m\u001b[0;34m*\u001b[0m\u001b[0margs\u001b[0m\u001b[0;34m,\u001b[0m \u001b[0;34m**\u001b[0m\u001b[0mkwargs\u001b[0m\u001b[0;34m)\u001b[0m\u001b[0;34m\u001b[0m\u001b[0;34m\u001b[0m\u001b[0m\n\u001b[0m\u001b[1;32m     32\u001b[0m \u001b[0;34m\u001b[0m\u001b[0m\n\u001b[1;32m     33\u001b[0m     \u001b[0;32mreturn\u001b[0m \u001b[0mnew_fcn\u001b[0m\u001b[0;34m\u001b[0m\u001b[0;34m\u001b[0m\u001b[0m\n",
      "\u001b[0;32m~/opt/anaconda3/envs/qcmm/lib/python3.6/site-packages/parmed/structure.py\u001b[0m in \u001b[0;36mcreateSystem\u001b[0;34m(self, nonbondedMethod, nonbondedCutoff, switchDistance, constraints, rigidWater, implicitSolvent, implicitSolventKappa, implicitSolventSaltConc, temperature, soluteDielectric, solventDielectric, useSASA, removeCMMotion, hydrogenMass, ewaldErrorTolerance, flexibleConstraints, verbose, splitDihedrals)\u001b[0m\n\u001b[1;32m   2027\u001b[0m         \u001b[0mLOGGER\u001b[0m\u001b[0;34m.\u001b[0m\u001b[0minfo\u001b[0m\u001b[0;34m(\u001b[0m\u001b[0;34m&#39;Adding bonds...&#39;\u001b[0m\u001b[0;34m)\u001b[0m\u001b[0;34m\u001b[0m\u001b[0;34m\u001b[0m\u001b[0m\n\u001b[1;32m   2028\u001b[0m         self._add_force_to_system(system,\n\u001b[0;32m-&gt; 2029\u001b[0;31m                 \u001b[0mself\u001b[0m\u001b[0;34m.\u001b[0m\u001b[0momm_bond_force\u001b[0m\u001b[0;34m(\u001b[0m\u001b[0mconstraints\u001b[0m\u001b[0;34m,\u001b[0m \u001b[0mrigidWater\u001b[0m\u001b[0;34m,\u001b[0m \u001b[0mflexibleConstraints\u001b[0m\u001b[0;34m)\u001b[0m\u001b[0;34m\u001b[0m\u001b[0;34m\u001b[0m\u001b[0m\n\u001b[0m\u001b[1;32m   2030\u001b[0m         )\n\u001b[1;32m   2031\u001b[0m         \u001b[0mLOGGER\u001b[0m\u001b[0;34m.\u001b[0m\u001b[0minfo\u001b[0m\u001b[0;34m(\u001b[0m\u001b[0;34m&#39;Adding angles...&#39;\u001b[0m\u001b[0;34m)\u001b[0m\u001b[0;34m\u001b[0m\u001b[0;34m\u001b[0m\u001b[0m\n",
      "\u001b[0;32m~/opt/anaconda3/envs/qcmm/lib/python3.6/site-packages/parmed/utils/decorators.py\u001b[0m in \u001b[0;36mnew_fcn\u001b[0;34m(*args, **kwargs)\u001b[0m\n\u001b[1;32m     29\u001b[0m         \u001b[0;32mif\u001b[0m \u001b[0;32mnot\u001b[0m \u001b[0mSUPPORTED_VERSION\u001b[0m\u001b[0;34m:\u001b[0m\u001b[0;34m\u001b[0m\u001b[0;34m\u001b[0m\u001b[0m\n\u001b[1;32m     30\u001b[0m             \u001b[0;32mraise\u001b[0m \u001b[0mImportError\u001b[0m\u001b[0;34m(\u001b[0m\u001b[0;34m&#39;You must have at least OpenMM 6.3 installed&#39;\u001b[0m\u001b[0;34m)\u001b[0m\u001b[0;34m\u001b[0m\u001b[0;34m\u001b[0m\u001b[0m\n\u001b[0;32m---&gt; 31\u001b[0;31m         \u001b[0;32mreturn\u001b[0m \u001b[0mfcn\u001b[0m\u001b[0;34m(\u001b[0m\u001b[0;34m*\u001b[0m\u001b[0margs\u001b[0m\u001b[0;34m,\u001b[0m \u001b[0;34m**\u001b[0m\u001b[0mkwargs\u001b[0m\u001b[0;34m)\u001b[0m\u001b[0;34m\u001b[0m\u001b[0;34m\u001b[0m\u001b[0m\n\u001b[0m\u001b[1;32m     32\u001b[0m \u001b[0;34m\u001b[0m\u001b[0m\n\u001b[1;32m     33\u001b[0m     \u001b[0;32mreturn\u001b[0m \u001b[0mnew_fcn\u001b[0m\u001b[0;34m\u001b[0m\u001b[0;34m\u001b[0m\u001b[0m\n",
      "\u001b[0;32m~/opt/anaconda3/envs/qcmm/lib/python3.6/site-packages/parmed/structure.py\u001b[0m in \u001b[0;36momm_bond_force\u001b[0;34m(self, constraints, rigidWater, flexibleConstraints)\u001b[0m\n\u001b[1;32m   2257\u001b[0m                 \u001b[0;32mcontinue\u001b[0m\u001b[0;34m\u001b[0m\u001b[0;34m\u001b[0m\u001b[0m\n\u001b[1;32m   2258\u001b[0m             \u001b[0;32mif\u001b[0m \u001b[0mbond\u001b[0m\u001b[0;34m.\u001b[0m\u001b[0mtype\u001b[0m \u001b[0;32mis\u001b[0m \u001b[0;32mNone\u001b[0m\u001b[0;34m:\u001b[0m\u001b[0;34m\u001b[0m\u001b[0;34m\u001b[0m\u001b[0m\n\u001b[0;32m-&gt; 2259\u001b[0;31m                 \u001b[0;32mraise\u001b[0m \u001b[0mParameterError\u001b[0m\u001b[0;34m(\u001b[0m\u001b[0;34m&#39;Cannot find necessary parameters&#39;\u001b[0m\u001b[0;34m)\u001b[0m\u001b[0;34m\u001b[0m\u001b[0;34m\u001b[0m\u001b[0m\n\u001b[0m\u001b[1;32m   2260\u001b[0m             force.addBond(bond.atom1.idx, bond.atom2.idx, bond.type.req*length_conv,\n\u001b[1;32m   2261\u001b[0m                           2*bond.type.k*frc_conv)\n",
      "\u001b[0;31mParameterError\u001b[0m: Cannot find necessary parameters"
     ]
    }
   ],
   "source": [
    "# # Dummy simulation\n",
    "integrator = LangevinIntegrator(\n",
    "    302.5*unit.kelvin, \n",
    "    1/unit.picosecond, \n",
    "    0.002*unit.picoseconds)\n",
    "\n",
    "# TODO Periodic box, see omm_readparams.py\n",
    "# TODO CHARMM-GUI params, see omm_readparams.py\n",
    "complex_system = pmdCPLX.createSystem(\n",
    "    \"\"\"<Extracted CHARMM-GUI parameters>\"\"\")\n",
    "\n",
    "simulation = app.Simulation(\n",
    "  pmdCPLX.topology, complex_system, integrator)\n",
    "simulation.context.setPositions(pmdCPLX.positions)\n",
    "simulation.minimizeEnergy()"
   ]
  },
  {
   "cell_type": "code",
   "execution_count": null,
   "metadata": {},
   "outputs": [],
   "source": []
  }
 ]
}