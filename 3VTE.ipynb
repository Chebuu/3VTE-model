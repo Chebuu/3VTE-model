{
 "nbformat": 4,
 "nbformat_minor": 2,
 "metadata": {
  "language_info": {
   "name": "python",
   "codemirror_mode": {
    "name": "ipython",
    "version": 3
   },
   "version": "3.6.10-final"
  },
  "orig_nbformat": 2,
  "file_extension": ".py",
  "mimetype": "text/x-python",
  "name": "python",
  "npconvert_exporter": "python",
  "pygments_lexer": "ipython3",
  "version": 3,
  "kernelspec": {
   "name": "python361064bitqcmmcondac19dda4244fb4a8d8a50fb39055fedc3",
   "display_name": "Python 3.6.10 64-bit ('qcmm': conda)"
  }
 },
 "cells": [
  {
   "cell_type": "code",
   "execution_count": null,
   "metadata": {},
   "outputs": [],
   "source": [
    "# NOTE\n",
    "## The following C=C double-bonds in CBGA.pdb were manually placed using Avogadro\n",
    "### C14 - C15\n",
    "### C19 - C20"
   ]
  },
  {
   "cell_type": "code",
   "execution_count": null,
   "metadata": {},
   "outputs": [],
   "source": [
    "%%bash\n",
    "antechamber \\\n",
    "    -fi pdb -i structures/CBGA.pdb \\\n",
    "    -fo mol2 -o structures/CBGA.gaff.mol2 \\\n",
    "    -rn CBG1 -c bcc -at gaff2 -j 4 -pf y\n",
    "parmchk2 \\\n",
    "    -i structures/CBGA.gaff.mol2 \\\n",
    "    -f mol2 -o CBGA.frcmod -s 2"
   ]
  },
  {
   "cell_type": "code",
   "execution_count": null,
   "metadata": {},
   "outputs": [],
   "source": [
    "!tleap -f complex.in"
   ]
  },
  {
   "cell_type": "code",
   "execution_count": null,
   "metadata": {},
   "outputs": [],
   "source": [
    "!sander -O \\\n",
    "    -i md.in -o md.out \\\n",
    "    -p complex.prmtop -c complex.inpcrd \\\n",
    "    -r md_qmmm.rst -x md_qmmm.mdcrd"
   ]
  }
 ]
}