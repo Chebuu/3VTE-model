{
 "nbformat": 4,
 "nbformat_minor": 2,
 "metadata": {
  "language_info": {
   "name": "python",
   "codemirror_mode": {
    "name": "ipython",
    "version": 3
   },
   "version": "3.6.10-final"
  },
  "orig_nbformat": 2,
  "file_extension": ".py",
  "mimetype": "text/x-python",
  "name": "python",
  "npconvert_exporter": "python",
  "pygments_lexer": "ipython3",
  "version": 3,
  "kernelspec": {
   "name": "python361064bitqcmmcondac19dda4244fb4a8d8a50fb39055fedc3",
   "display_name": "Python 3.6.10 64-bit ('qcmm': conda)"
  }
 },
 "cells": [
  {
   "cell_type": "code",
   "execution_count": 11,
   "metadata": {},
   "outputs": [
    {
     "output_type": "stream",
     "name": "stdout",
     "text": "-I: Adding /Users/sethmartinez/opt/anaconda3/envs/qcmm/dat/leap/prep to search path.\n-I: Adding /Users/sethmartinez/opt/anaconda3/envs/qcmm/dat/leap/lib to search path.\n-I: Adding /Users/sethmartinez/opt/anaconda3/envs/qcmm/dat/leap/parm to search path.\n-I: Adding /Users/sethmartinez/opt/anaconda3/envs/qcmm/dat/leap/cmd to search path.\n-f: Source complex.in.\n\nWelcome to LEaP!\n(no leaprc in search path)\nSourcing: ./complex.in\n----- Source: /Users/sethmartinez/opt/anaconda3/envs/qcmm/dat/leap/cmd/leaprc.protein.ff14SB\n----- Source of /Users/sethmartinez/opt/anaconda3/envs/qcmm/dat/leap/cmd/leaprc.protein.ff14SB done\nLog file: ./leap.log\nLoading parameters: /Users/sethmartinez/opt/anaconda3/envs/qcmm/dat/leap/parm/parm10.dat\nReading title:\nPARM99 + frcmod.ff99SB + frcmod.parmbsc0 + OL3 for RNA\nLoading parameters: /Users/sethmartinez/opt/anaconda3/envs/qcmm/dat/leap/parm/frcmod.ff14SB\nReading force field modification type file (frcmod)\nReading title:\nff14SB protein backbone and sidechain parameters\nLoading library: /Users/sethmartinez/opt/anaconda3/envs/qcmm/dat/leap/lib/amino12.lib\nLoading library: /Users/sethmartinez/opt/anaconda3/envs/qcmm/dat/leap/lib/aminoct12.lib\nLoading library: /Users/sethmartinez/opt/anaconda3/envs/qcmm/dat/leap/lib/aminont12.lib\nLoading parameters: ./FADH-.ff\nReading title:\nPARM94 for DNA, RNA and proteins with TIP3P Water. USE SCEE=1.2 in energy progs\nLoading library: ./FADH-.lib\nLoading PDB file: ./structures/3vte_heta.pdb\nCreated a new atom named: P1 within residue: .R<FAD 607>\nCreated a new atom named: O6 within residue: .R<FAD 607>\nCreated a new atom named: N4 within residue: .R<FAD 607>\nCreated a new atom named: N5 within residue: .R<FAD 607>\nCreated a new atom named: N6 within residue: .R<FAD 607>\nCreated a new atom named: O7 within residue: .R<FAD 607>\nCreated a new atom named: N7 within residue: .R<FAD 607>\nCreated a new atom named: C12 within residue: .R<FAD 607>\nCreated a new atom named: O8 within residue: .R<FAD 607>\nCreated a new atom named: C13 within residue: .R<FAD 607>\nCreated a new atom named: N8 within residue: .R<FAD 607>\nCreated a new atom named: C14 within residue: .R<FAD 607>\nCreated a new atom named: C15 within residue: .R<FAD 607>\nCreated a new atom named: C16 within residue: .R<FAD 607>\nCreated a new atom named: C17 within residue: .R<FAD 607>\nCreated a new atom named: C18 within residue: .R<FAD 607>\nCreated a new atom named: C19 within residue: .R<FAD 607>\nCreated a new atom named: C20 within residue: .R<FAD 607>\nCreated a new atom named: C21 within residue: .R<FAD 607>\nCreated a new atom named: N9 within residue: .R<FAD 607>\nCreated a new atom named: C22 within residue: .R<FAD 607>\nCreated a new atom named: C23 within residue: .R<FAD 607>\nCreated a new atom named: C24 within residue: .R<FAD 607>\nCreated a new atom named: O9 within residue: .R<FAD 607>\nCreated a new atom named: C25 within residue: .R<FAD 607>\nCreated a new atom named: O10 within residue: .R<FAD 607>\nCreated a new atom named: C26 within residue: .R<FAD 607>\nCreated a new atom named: O11 within residue: .R<FAD 607>\nCreated a new atom named: C27 within residue: .R<FAD 607>\nCreated a new atom named: O12 within residue: .R<FAD 607>\nCreated a new atom named: P2 within residue: .R<FAD 607>\nCreated a new atom named: O13 within residue: .R<FAD 607>\nCreated a new atom named: O14 within residue: .R<FAD 607>\nCreated a new atom named: O15 within residue: .R<FAD 607>\n  Added missing heavy atom: .R<FAD 607>.A<C9A 38>\n  Added missing heavy atom: .R<FAD 607>.A<C5A 31>\n  Added missing heavy atom: .R<FAD 607>.A<C8M 36>\n  Added missing heavy atom: .R<FAD 607>.A<C7M 34>\n  Added missing heavy atom: .R<FAD 607>.A<C4A 29>\n  Added missing heavy atom: .R<FAD 607>.A<C 24>\n  Added missing heavy atom: .R<FAD 607>.A<N 23>\n  Added missing heavy atom: .R<FAD 607>.A<O 25>\n  Added missing heavy atom: .R<FAD 607>.A<P 50>\n  Added missing heavy atom: .R<FAD 607>.A<O1P 51>\n  Added missing heavy atom: .R<FAD 607>.A<O2P 52>\n  Added missing heavy atom: .R<FAD 607>.A<O3P 53>\n  Added missing heavy atom: .R<FAD 607>.A<PA 1>\n  Added missing heavy atom: .R<FAD 607>.A<O1A1 2>\n  Added missing heavy atom: .R<FAD 607>.A<O2A1 3>\n  Added missing heavy atom: .R<FAD 607>.A<O5'1 4>\n  Added missing heavy atom: .R<FAD 607>.A<C5'2 5>\n  Added missing heavy atom: .R<FAD 607>.A<C4'1 6>\n  Added missing heavy atom: .R<FAD 607>.A<O4'2 7>\n  Added missing heavy atom: .R<FAD 607>.A<C3'1 8>\n  Added missing heavy atom: .R<FAD 607>.A<C1' 12>\n  Added missing heavy atom: .R<FAD 607>.A<O3'2 9>\n  Added missing heavy atom: .R<FAD 607>.A<C2'1 10>\n  Added missing heavy atom: .R<FAD 607>.A<N9A1 13>\n  Added missing heavy atom: .R<FAD 607>.A<O2'2 11>\n  Added missing heavy atom: .R<FAD 607>.A<C8A 14>\n  Added missing heavy atom: .R<FAD 607>.A<C4A1 22>\n  Added missing heavy atom: .R<FAD 607>.A<N7A 15>\n  Added missing heavy atom: .R<FAD 607>.A<N3A 21>\n  Added missing heavy atom: .R<FAD 607>.A<C5A1 16>\n  Added missing heavy atom: .R<FAD 607>.A<C2A2 20>\n  Added missing heavy atom: .R<FAD 607>.A<C6A1 17>\n  Added missing heavy atom: .R<FAD 607>.A<N1A2 19>\n  Added missing heavy atom: .R<FAD 607>.A<N6A2 18>\n  total atoms in file: 53\n  Leap added 66 missing atoms according to residue templates:\n       34 Heavy\n       32 H / lone pairs\n  The file contained 34 atoms not in residue templates\nLoading PDB file: ./structures/3vte_proa.model.pdb\n  total atoms in file: 5051\n  Leap added 3196 missing atoms according to residue templates:\n       3196 H / lone pairs\n----- Source: ./FAD-atype.cmd\n----- Source of ./FAD-atype.cmd done\n----- Source: ./FAD-bond.cmd\n----- Source of ./FAD-bond.cmd done\n\n/Users/sethmartinez/opt/anaconda3/envs/qcmm/bin/teLeap: Fatal Error!\nbond: Argument #1 is type String must be of type: [atom]\nusage:  bond <atom1> <atom2> [order]\n\nExiting LEaP: Errors = 1; Warnings = 0; Notes = 0.\n"
    }
   ],
   "source": [
    "!tleap -f complex.in"
   ]
  },
  {
   "cell_type": "code",
   "execution_count": null,
   "metadata": {},
   "outputs": [],
   "source": []
  }
 ]
}