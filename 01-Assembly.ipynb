{
 "nbformat": 4,
 "nbformat_minor": 2,
 "metadata": {
  "language_info": {
   "name": "python",
   "codemirror_mode": {
    "name": "ipython",
    "version": 3
   },
   "version": "3.6.10-final"
  },
  "orig_nbformat": 2,
  "file_extension": ".py",
  "mimetype": "text/x-python",
  "name": "python",
  "npconvert_exporter": "python",
  "pygments_lexer": "ipython3",
  "version": 3,
  "kernelspec": {
   "name": "python361064bitqcmmcondac19dda4244fb4a8d8a50fb39055fedc3",
   "display_name": "Python 3.6.10 64-bit ('qcmm': conda)"
  }
 },
 "cells": [
  {
   "cell_type": "code",
   "execution_count": null,
   "metadata": {},
   "outputs": [],
   "source": [
    "# CBGA acid (need carboxylate instead)\n",
    "!antechamber \\\n",
    "    -fi pdb -i structures/CBGA.pdb \\\n",
    "    -fo mol2 -o structures/CBGA.gaff.mol2 \\\n",
    "    -rn CBG1 -c bcc -at gaff2 -j 4 -pf y\n",
    "    \n",
    "!parmchk2 \\\n",
    "    -i structures/CBGA.gaff.mol2 \\\n",
    "    -f mol2 -o CBGA.frcmod -s 2"
   ]
  },
  {
   "cell_type": "code",
   "execution_count": null,
   "metadata": {},
   "outputs": [],
   "source": [
    "# FAD(+) net fomal charge (-2) pH 5.0\n",
    "!antechamber \\\n",
    "    -fi pdb -i structures/FAD.pdb \\\n",
    "    -fo mol2 -o structures/FAD.gaff.mol2 \\\n",
    "    -rn FAD -c bcc -at gaff2 -j 4 -pf y \\\n",
    "    -nc -1\n",
    "    !parmchk2 \\\n",
    "    -i structures/FAD.gaff.mol2 \\\n",
    "    -f mol2 -o FAD.frcmod -s 2"
   ]
  },
  {
   "cell_type": "code",
   "execution_count": null,
   "metadata": {},
   "outputs": [],
   "source": [
    "# FADH net fomal charge (-2) pH 5.0\n",
    "!antechamber \\\n",
    "    -fi pdb -i structures/FADH.pdb \\\n",
    "    -fo mol2 -o structures/FADH.gaff.mol2 \\\n",
    "    -rn FAD -c bcc -at gaff2 -j 4 -pf y \\\n",
    "    -nc -2\n",
    "!parmchk2 \\\n",
    "    -i structures/FADH.gaff.mol2 \\\n",
    "    -f mol2 -o FADH.frcmod -s 2"
   ]
  },
  {
   "cell_type": "code",
   "execution_count": null,
   "metadata": {},
   "outputs": [],
   "source": [
    "# FADH2(-) net fomal charge (-3) pH 5.0\n",
    "!antechamber \\\n",
    "    -fi pdb -i structures/FADH2.pdb \\\n",
    "    -fo mol2 -o structures/FADH2.gaff.mol2 \\\n",
    "    -rn FAD -c bcc -at gaff2 -j 4 -pf y \\\n",
    "    -nc -3\n",
    "!parmchk2 \\\n",
    "    -i structures/FADH2.gaff.mol2 \\\n",
    "    -f mol2 -o FADH2.frcmod -s 2"
   ]
  },
  {
   "cell_type": "code",
   "execution_count": null,
   "metadata": {
    "tags": [
     "outputPrepend",
     "outputPrepend",
     "outputPrepend",
     "outputPrepend",
     "outputPrepend",
     "outputPrepend",
     "outputPrepend",
     "outputPrepend",
     "outputPrepend",
     "outputPrepend",
     "outputPrepend",
     "outputPrepend",
     "outputPrepend",
     "outputPrepend",
     "outputPrepend",
     "outputPrepend"
    ]
   },
   "outputs": [],
   "source": [
    "!tleap -f complex.in"
   ]
  },
  {
   "cell_type": "code",
   "execution_count": null,
   "metadata": {},
   "outputs": [],
   "source": [
    "%%bash\n",
    "# Sanity check\n",
    "ambpdb \\\n",
    "    -p complex.prmtop -c complex.inpcrd \\\n",
    "    > structures/complex.pdb"
   ]
  },
  {
   "cell_type": "code",
   "execution_count": null,
   "metadata": {},
   "outputs": [],
   "source": [
    "%%bash\n",
    "# Energy minimization\n",
    "sander -O \\\n",
    "    -i em.emin.in \\\n",
    "    -p complex.prmtop -c complex.inpcrd \\\n",
    "    -r emin.em.emin.rst\n",
    "# Sanity check\n",
    "ambpdb -p complex.prmtop -c complex.inpcrd < em.emin.rst > em.emin.pdb"
   ]
  },
  {
   "cell_type": "code",
   "execution_count": null,
   "metadata": {},
   "outputs": [],
   "source": [
    "%%bash\n",
    "# Graded initial heating\n",
    "sander -O \n",
    "    -i em.heat.in -o heat.log \\\n",
    "    -p gfp.parm7 -c min1.rst7 \\\n",
    "    -r heat.rst -x heat.crd"
   ]
  },
  {
   "cell_type": "code",
   "execution_count": null,
   "metadata": {},
   "outputs": [],
   "source": [
    "%%bash\n",
    "# Restrained equilibration \n",
    "sander -O \\\n",
    "    -i emin.eq.in -o emin.eq.log -inf emin.eq.info \\\n",
    "    -p complex.prmtop -c complex.inpcrd \\\n",
    "    -r emin.eq.rst -x emin.eq.crd "
   ]
  }
 ]
}