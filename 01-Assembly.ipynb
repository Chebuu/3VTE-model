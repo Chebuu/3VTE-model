{
 "nbformat": 4,
 "nbformat_minor": 2,
 "metadata": {
  "language_info": {
   "name": "python",
   "codemirror_mode": {
    "name": "ipython",
    "version": 3
   },
   "version": "3.6.10-final"
  },
  "orig_nbformat": 2,
  "file_extension": ".py",
  "mimetype": "text/x-python",
  "name": "python",
  "npconvert_exporter": "python",
  "pygments_lexer": "ipython3",
  "version": 3,
  "kernelspec": {
   "name": "python361064bitqcmmcondac19dda4244fb4a8d8a50fb39055fedc3",
   "display_name": "Python 3.6.10 64-bit ('qcmm': conda)"
  }
 },
 "cells": [
  {
   "cell_type": "code",
   "execution_count": null,
   "metadata": {},
   "outputs": [],
   "source": [
    "# %%bash\n",
    "# # CBGA acid (docked conformer)\n",
    "# !antechamber \\\n",
    "#     -fi pdb -i structures/CBGA.DOCK.1.61.pdb \\\n",
    "#     -fo mol2 -o structures/CBGA.gaff.mol2 \\\n",
    "#     -rn CBG1 -c bcc -at gaff2 -j 4 -pf y\n",
    "# !parmchk2 \\\n",
    "#     -i structures/CBGA.gaff.mol2 \\\n",
    "#     -f mol2 -o CBGA.frcmod -s 2"
   ]
  },
  {
   "cell_type": "code",
   "execution_count": null,
   "metadata": {},
   "outputs": [],
   "source": [
    "%%bash\n",
    "# CBGA carboxylate (docked conformer)\n",
    "antechamber \\\n",
    "    -fi pdb -i structures/CBGA.COO.DOCK.1.61.pdb \\\n",
    "    -fo mol2 -o structures/CBGA.COO.gaff.mol2 \\\n",
    "    -rn LIG -c bcc -at gaff2 -j 4 -pf y \\\n",
    "    -nc -1\n",
    "parmchk2 \\\n",
    "    -i structures/CBGA.COO.gaff.mol2 \\\n",
    "    -f mol2 -o CBGA.COO.frcmod -s 2"
   ]
  },
  {
   "cell_type": "code",
   "execution_count": null,
   "metadata": {},
   "outputs": [],
   "source": [
    "%%bash\n",
    "# FAD net fomal charge (-2) pH 5.0\n",
    "antechamber \\\n",
    "    -fi pdb -i structures/FAD.pdb \\\n",
    "    -fo mol2 -o structures/FAD.gaff.mol2 \\\n",
    "    -rn FAD -c bcc -at gaff2 -j 4 -pf y \\\n",
    "    -nc -2\n",
    "parmchk2 \\\n",
    "    -i structures/FAD.gaff.mol2 \\\n",
    "    -f mol2 -o FAD.frcmod -s 2"
   ]
  },
  {
   "cell_type": "code",
   "execution_count": null,
   "metadata": {},
   "outputs": [],
   "source": [
    "%%bash\n",
    "# FADHH net fomal charge (-2) pH 5.0\n",
    "antechamber \\\n",
    "    -fi pdb -i structures/FADH2.pdb \\\n",
    "    -fo mol2 -o structures/FADH2.gaff.mol2 \\\n",
    "    -rn FAD -c bcc -at gaff2 -j 4 -pf y \\\n",
    "    -nc -2 \n",
    "parmchk2 \\\n",
    "    -i structures/FADH2.gaff.mol2 \\\n",
    "    -f mol2 -o FADH2.frcmod -s 2"
   ]
  },
  {
   "cell_type": "code",
   "execution_count": null,
   "metadata": {
    "tags": [
     "outputPrepend",
     "outputPrepend",
     "outputPrepend",
     "outputPrepend",
     "outputPrepend",
     "outputPrepend",
     "outputPrepend",
     "outputPrepend",
     "outputPrepend",
     "outputPrepend",
     "outputPrepend",
     "outputPrepend",
     "outputPrepend",
     "outputPrepend",
     "outputPrepend",
     "outputPrepend"
    ]
   },
   "outputs": [],
   "source": [
    "%%bash\n",
    "# Complex assembly\n",
    "tleap -f complex.in\n",
    "# Sanity check\n",
    "ambpdb -p complex.prmtop -c complex.inpcrd > structures/complex.pdb"
   ]
  },
  {
   "cell_type": "code",
   "execution_count": null,
   "metadata": {},
   "outputs": [],
   "source": [
    "%%bash\n",
    "# Energy minimization\n",
    "sander -O \\\n",
    "    -i em.emin.in -o em.emin.out -inf em.emin.info \\\n",
    "    -p complex.prmtop -c complex.inpcrd \\\n",
    "    -r em.emin.rst \n",
    "# Sanity check\n",
    "ambpdb -p complex.prmtop -c complex.inpcrd < em.emin.rst > em.emin.pdb"
   ]
  },
  {
   "cell_type": "code",
   "execution_count": null,
   "metadata": {},
   "outputs": [],
   "source": [
    "%%bash\n",
    "# Graded initial heating\n",
    "sander -O -i em.heat.in -o em.heat.log -inf em.heat.info -p complex.prmtop -c em.emin.rst -r em.heat.rst -x em.heat.nc\n",
    "    # Sanity chec\n",
    "# Sanity check\n",
    "ambpdb -p complex.prmtop -c em.heat.nc < em.heat.rst > structures/em.heat.pdb"
   ]
  },
  {
   "cell_type": "code",
   "execution_count": null,
   "metadata": {},
   "outputs": [],
   "source": [
    "%%bash\n",
    "# Restrained equilibration \n",
    "sander -O \\\n",
    "    -i em.equi.in -o em.equi.log -inf em.equi.info \\\n",
    "    -p complex.prmtop -c em.heat.rst \\\n",
    "    -r em.equi.rst -x em.equi.nc \n",
    "# Sanity check\n",
    "ambpdb -p complex.prmtop -c em.equi.nc < em.equi.rst > structures/em.equi.pdb"
   ]
  }
 ]
}