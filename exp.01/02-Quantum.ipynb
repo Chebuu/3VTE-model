{
 "cells": [
  {
   "cell_type": "code",
   "execution_count": null,
   "metadata": {
    "tags": [
     "outputPrepend"
    ]
   },
   "outputs": [],
   "source": [
    "%%bash\n",
    "# Modifications that approach the transition state\n",
    "tleap -f complex.t0.in"
   ]
  },
  {
   "cell_type": "code",
   "execution_count": 65,
   "metadata": {},
   "outputs": [],
   "source": [
    "%%bash\n",
    "sander -O \\\n",
    "    -i qm.t0.in -o qm.t0.log -inf /dev/null \\\n",
    "    -p complex.t0.prmtop -c complex.t0.inpcrd \\\n",
    "    -ref em.equi.rst \\\n",
    "    -x qm.t0.nc -r qm.t0.rst"
   ]
  },
  {
   "cell_type": "code",
   "execution_count": null,
   "metadata": {},
   "outputs": [],
   "source": []
  }
 ],
 "metadata": {
  "language_info": {
   "codemirror_mode": {
    "name": "ipython",
    "version": 3
   },
   "file_extension": ".py",
   "mimetype": "text/x-python",
   "name": "python",
   "nbconvert_exporter": "python",
   "pygments_lexer": "ipython3",
   "version": "3.6.10-final"
  },
  "orig_nbformat": 2,
  "kernelspec": {
   "name": "python361064bitqcmmcondac19dda4244fb4a8d8a50fb39055fedc3",
   "display_name": "Python 3.6.10 64-bit ('qcmm': conda)"
  }
 },
 "nbformat": 4,
 "nbformat_minor": 2
}