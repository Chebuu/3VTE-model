{
 "cells": [
  {
   "cell_type": "code",
   "execution_count": null,
   "metadata": {},
   "outputs": [],
   "source": [
    "# %%bash\n",
    "# # CBGA acid (hand-placed conformer)\n",
    "# !antechamber \\\n",
    "#     -fi pdb -i structures/CBGA.pdb \\\n",
    "#     -fo mol2 -o structures/CBGA.gaff.mol2 \\\n",
    "#     -rn CBG1 -c bcc -at gaff2 -j 4 -pf y\n",
    "# !parmchk2 \\\n",
    "#     -i structures/CBGA.gaff.mol2 \\\n",
    "#     -f mol2 -o CBGA.frcmod -s 2"
   ]
  },
  {
   "cell_type": "code",
   "execution_count": 1,
   "metadata": {
    "tags": []
   },
   "outputs": [
    {
     "output_type": "stream",
     "name": "stdout",
     "text": "\nWelcome to antechamber 17.3: molecular input file processor.\n\nacdoctor mode is on: check and diagnosis problems in the input file.\n-- Check Format for pdb File --\n   Status: pass\n-- Check Unusual Elements --\n   Status: pass\n-- Check Open Valences --\n   Status: pass\n-- Check Geometry --\n      for those bonded   \n      for those not bonded   \n   Status: pass\n-- Check Weird Bonds --\n   Status: pass\n-- Check Number of Units --\n   Status: pass\nacdoctor mode has completed checking the input file.\n\nInfo: Total number of electrons: 196; net charge: -1\n\nRunning: /Users/sethmartinez/opt/anaconda3/envs/qcmm/bin/sqm -O -i sqm.in -o sqm.out\n\n"
    }
   ],
   "source": [
    "%%bash\n",
    "# CBGA carboxylate (hand-placed conformer)\n",
    "antechamber \\\n",
    "    -fi pdb -i ../structures/CBGA.COO.pdb \\\n",
    "    -fo mol2 -o ../structures/CBGA.COO.gaff.mol2 \\\n",
    "    -rn LIG -c bcc -at gaff2 -j 4 -pf y \\\n",
    "    -nc -1\n",
    "parmchk2 \\\n",
    "    -i ../structures/CBGA.COO.gaff.mol2 \\\n",
    "    -f mol2 -o CBGA.COO.frcmod -s 2"
   ]
  },
  {
   "cell_type": "code",
   "execution_count": 5,
   "metadata": {
    "tags": []
   },
   "outputs": [
    {
     "output_type": "stream",
     "name": "stdout",
     "text": "\nWelcome to antechamber 17.3: molecular input file processor.\n\nacdoctor mode is on: check and diagnosis problems in the input file.\n-- Check Format for pdb File --\n   Status: pass\n-- Check Unusual Elements --\n   Status: pass\n-- Check Open Valences --\n   Status: pass\n-- Check Geometry --\n      for those bonded   \n      for those not bonded   \n   Status: pass\n-- Check Weird Bonds --\n   Status: pass\n-- Check Number of Units --\n   Status: pass\nacdoctor mode has completed checking the input file.\n\nInfo: Total number of electrons: 408; net charge: -2\n\nRunning: /Users/sethmartinez/opt/anaconda3/envs/qcmm/bin/sqm -O -i sqm.in -o sqm.out\n\n"
    }
   ],
   "source": [
    "%%bash\n",
    "# FAD net fomal charge (-2) pH 5.0\n",
    "antechamber \\\n",
    "    -fi pdb -i ../structures/FAD.pdb \\\n",
    "    -fo mol2 -o ../structures/FAD.gaff.mol2 \\\n",
    "    -rn FAD -c bcc -at gaff2 -j 4 -pf y \\\n",
    "    -nc -2\n",
    "parmchk2 \\\n",
    "    -i ../structures/FAD.gaff.mol2 \\\n",
    "    -f mol2 -o FAD.frcmod -s 2"
   ]
  },
  {
   "cell_type": "code",
   "execution_count": 3,
   "metadata": {
    "tags": []
   },
   "outputs": [
    {
     "output_type": "stream",
     "name": "stdout",
     "text": "-I: Adding /Users/sethmartinez/opt/anaconda3/envs/qcmm/dat/leap/prep to search path.\n-I: Adding /Users/sethmartinez/opt/anaconda3/envs/qcmm/dat/leap/lib to search path.\n-I: Adding /Users/sethmartinez/opt/anaconda3/envs/qcmm/dat/leap/parm to search path.\n-I: Adding /Users/sethmartinez/opt/anaconda3/envs/qcmm/dat/leap/cmd to search path.\n-f: Source complex.in.\n\nWelcome to LEaP!\n(no leaprc in search path)\nSourcing: ./complex.in\nUsing modified Bondi radii\n----- Source: /Users/sethmartinez/opt/anaconda3/envs/qcmm/dat/leap/cmd/leaprc.gaff2\n----- Source of /Users/sethmartinez/opt/anaconda3/envs/qcmm/dat/leap/cmd/leaprc.gaff2 done\nLog file: ./leap.log\nLoading parameters: /Users/sethmartinez/opt/anaconda3/envs/qcmm/dat/leap/parm/gaff2.dat\nReading title:\nAMBER General Force Field for organic molecules (Version 2.11, May 2016)\n----- Source: /Users/sethmartinez/opt/anaconda3/envs/qcmm/dat/leap/cmd/leaprc.water.tip3p\n----- Source of /Users/sethmartinez/opt/anaconda3/envs/qcmm/dat/leap/cmd/leaprc.water.tip3p done\nLoading library: /Users/sethmartinez/opt/anaconda3/envs/qcmm/dat/leap/lib/atomic_ions.lib\nLoading library: /Users/sethmartinez/opt/anaconda3/envs/qcmm/dat/leap/lib/solvents.lib\nLoading parameters: /Users/sethmartinez/opt/anaconda3/envs/qcmm/dat/leap/parm/frcmod.tip3p\nReading force field modification type file (frcmod)\nReading title:\nThis is the additional/replacement parameter set for TIP3P water\nLoading parameters: /Users/sethmartinez/opt/anaconda3/envs/qcmm/dat/leap/parm/frcmod.ionsjc_tip3p\nReading force field modification type file (frcmod)\nReading title:\nMonovalent ion parameters for Ewald and TIP3P water from Joung & Cheatham JPCB (2008)\nLoading parameters: /Users/sethmartinez/opt/anaconda3/envs/qcmm/dat/leap/parm/frcmod.ions234lm_126_tip3p\nReading force field modification type file (frcmod)\nReading title:\nLi/Merz ion parameters of divalent to tetravalent ions for TIP3P water model (12-6 normal usage set)\n----- Source: /Users/sethmartinez/opt/anaconda3/envs/qcmm/dat/leap/cmd/leaprc.protein.ff14SB\n----- Source of /Users/sethmartinez/opt/anaconda3/envs/qcmm/dat/leap/cmd/leaprc.protein.ff14SB done\nLog file: ./leap.log\nLoading parameters: /Users/sethmartinez/opt/anaconda3/envs/qcmm/dat/leap/parm/parm10.dat\nReading title:\nPARM99 + frcmod.ff99SB + frcmod.parmbsc0 + OL3 for RNA\nLoading parameters: /Users/sethmartinez/opt/anaconda3/envs/qcmm/dat/leap/parm/frcmod.ff14SB\nReading force field modification type file (frcmod)\nReading title:\nff14SB protein backbone and sidechain parameters\nLoading library: /Users/sethmartinez/opt/anaconda3/envs/qcmm/dat/leap/lib/amino12.lib\nLoading library: /Users/sethmartinez/opt/anaconda3/envs/qcmm/dat/leap/lib/aminoct12.lib\nLoading library: /Users/sethmartinez/opt/anaconda3/envs/qcmm/dat/leap/lib/aminont12.lib\nLoading PDB file: ../structures/3vte_proa.model.pdb\n  total atoms in file: 5051\n  Leap added 3196 missing atoms according to residue templates:\n       3196 H / lone pairs\nLoading parameters: ./CBGA.COO.frcmod\nReading force field modification type file (frcmod)\nReading title:\nRemark line goes here\nLoading Mol2 file: ../structures/CBGA.COO.gaff.mol2\nReading MOLECULE named LIG\nLoading parameters: ./FAD.frcmod\nReading force field modification type file (frcmod)\nReading title:\nRemark line goes here\nLoading Mol2 file: ../structures/FAD.gaff.mol2\nReading MOLECULE named FAD\nLoading parameters: ./FAD.CYS.frcmod\nReading force field modification type file (frcmod)\nReading title:\nAdapted from LigParGen 1.14*CM1A-LBCC for Flavin-His-Cys\nLoading parameters: ./FAD.HID.frcmod\nReading force field modification type file (frcmod)\nReading title:\nAdapted from LigParGen 1.14*CM1A-LBCC for Flavin-His-Cys\n----- Source: ./FAD.HID.cmd\n----- Source of ./FAD.HID.cmd done\ndeleteBond: Atoms are not bonded.\nThe value must be of the type: String\n----- Source: ./FAD.CYS.cmd\n----- Source of ./FAD.CYS.cmd done\ndeleteBond: Atoms are not bonded.\nScaling up box by a factor of 1.495390 to meet diagonal cut criterion\n  Solute vdw bounding box:              56.005 77.638 61.378\n  Total bounding box for atom centers:  86.611 86.611 86.611\n      (box expansion for 'iso' is  64.1%)\n  Solvent unit box:                     18.774 18.774 18.774\n  Volume: 336234.010 A^3 (oct)\n  Total mass 179136.462 amu,  Density 0.885 g/cc\n  Added 6623 residues.\nBuilding topology.\nBuilding atom parameters.\nChecking Unit.\n\n/Users/sethmartinez/opt/anaconda3/envs/qcmm/bin/teLeap: Warning!\nThere is a bond of 3.352013 angstroms between: \n\n/Users/sethmartinez/opt/anaconda3/envs/qcmm/bin/teLeap: Warning!\nThe unperturbed charge of the unit (6.090267) is not integral.\n\n/Users/sethmartinez/opt/anaconda3/envs/qcmm/bin/teLeap: Warning!\nThe unperturbed charge of the unit (6.090267) is not zero.\n\n/Users/sethmartinez/opt/anaconda3/envs/qcmm/bin/teLeap: Note.\nIgnoring the error and warnings from Unit Checking.\n\nBuilding topology.\nBuilding atom parameters.\nBuilding bond parameters.\n\n/Users/sethmartinez/opt/anaconda3/envs/qcmm/bin/teLeap: Error!\nCould not find bond parameter for: NB - ca\nBuilding angle parameters.\n\n/Users/sethmartinez/opt/anaconda3/envs/qcmm/bin/teLeap: Error!\nCould not find angle parameter: SH - ca - c3\n\n/Users/sethmartinez/opt/anaconda3/envs/qcmm/bin/teLeap: Error!\nCould not find angle parameter: CC - NB - ca\n\n/Users/sethmartinez/opt/anaconda3/envs/qcmm/bin/teLeap: Error!\nCould not find angle parameter: NB - ca - ca\n\n/Users/sethmartinez/opt/anaconda3/envs/qcmm/bin/teLeap: Error!\nCould not find angle parameter: NB - ca - ca\n\n/Users/sethmartinez/opt/anaconda3/envs/qcmm/bin/teLeap: Error!\nCould not find angle parameter: NB - ca - ha\n\n/Users/sethmartinez/opt/anaconda3/envs/qcmm/bin/teLeap: Error!\nCould not find angle parameter: CR - NB - ca\nBuilding proper torsion parameters.\n\n/Users/sethmartinez/opt/anaconda3/envs/qcmm/bin/teLeap: Error!\n ** No torsion terms for  2C-SH-ca-c3\n\n/Users/sethmartinez/opt/anaconda3/envs/qcmm/bin/teLeap: Error!\n ** No torsion terms for  CC-NB-ca-ca\n\n/Users/sethmartinez/opt/anaconda3/envs/qcmm/bin/teLeap: Error!\n ** No torsion terms for  CC-NB-ca-ca\n\n/Users/sethmartinez/opt/anaconda3/envs/qcmm/bin/teLeap: Error!\n ** No torsion terms for  CC-NB-ca-ha\n\n/Users/sethmartinez/opt/anaconda3/envs/qcmm/bin/teLeap: Error!\n ** No torsion terms for  CR-NB-ca-ca\n\n/Users/sethmartinez/opt/anaconda3/envs/qcmm/bin/teLeap: Error!\n ** No torsion terms for  CR-NB-ca-ca\n\n/Users/sethmartinez/opt/anaconda3/envs/qcmm/bin/teLeap: Error!\n ** No torsion terms for  CR-NB-ca-ha\nBuilding improper torsion parameters.\n total 1727 improper torsions applied\nBuilding H-Bond parameters.\nIncorporating Non-Bonded adjustments.\n\n/Users/sethmartinez/opt/anaconda3/envs/qcmm/bin/teLeap: Warning!\nParameter file was not saved.\n\tQuit\n\nExiting LEaP: Errors = 14; Warnings = 4; Notes = 1.\nError: Could not determine format of topology 'complex.prmtop'\n"
    },
    {
     "output_type": "error",
     "ename": "CalledProcessError",
     "evalue": "Command 'b'# Complex assembly\\ntleap -f complex.in\\n# Sanity check\\nambpdb -p complex.prmtop -c complex.inpcrd > complex.pdb\\n'' returned non-zero exit status 1.",
     "traceback": [
      "\u001b[0;31m---------------------------------------------------------------------------\u001b[0m",
      "\u001b[0;31mCalledProcessError\u001b[0m                        Traceback (most recent call last)",
      "\u001b[0;32m<ipython-input-3-1e51261f8af1>\u001b[0m in \u001b[0;36m<module>\u001b[0;34m\u001b[0m\n\u001b[0;32m----> 1\u001b[0;31m \u001b[0mget_ipython\u001b[0m\u001b[0;34m(\u001b[0m\u001b[0;34m)\u001b[0m\u001b[0;34m.\u001b[0m\u001b[0mrun_cell_magic\u001b[0m\u001b[0;34m(\u001b[0m\u001b[0;34m'bash'\u001b[0m\u001b[0;34m,\u001b[0m \u001b[0;34m''\u001b[0m\u001b[0;34m,\u001b[0m \u001b[0;34m'# Complex assembly\\ntleap -f complex.in\\n# Sanity check\\nambpdb -p complex.prmtop -c complex.inpcrd > complex.pdb\\n'\u001b[0m\u001b[0;34m)\u001b[0m\u001b[0;34m\u001b[0m\u001b[0;34m\u001b[0m\u001b[0m\n\u001b[0m",
      "\u001b[0;32m~/opt/anaconda3/envs/qcmm/lib/python3.6/site-packages/IPython/core/interactiveshell.py\u001b[0m in \u001b[0;36mrun_cell_magic\u001b[0;34m(self, magic_name, line, cell)\u001b[0m\n\u001b[1;32m   2360\u001b[0m             \u001b[0;32mwith\u001b[0m \u001b[0mself\u001b[0m\u001b[0;34m.\u001b[0m\u001b[0mbuiltin_trap\u001b[0m\u001b[0;34m:\u001b[0m\u001b[0;34m\u001b[0m\u001b[0;34m\u001b[0m\u001b[0m\n\u001b[1;32m   2361\u001b[0m                 \u001b[0margs\u001b[0m \u001b[0;34m=\u001b[0m \u001b[0;34m(\u001b[0m\u001b[0mmagic_arg_s\u001b[0m\u001b[0;34m,\u001b[0m \u001b[0mcell\u001b[0m\u001b[0;34m)\u001b[0m\u001b[0;34m\u001b[0m\u001b[0;34m\u001b[0m\u001b[0m\n\u001b[0;32m-> 2362\u001b[0;31m                 \u001b[0mresult\u001b[0m \u001b[0;34m=\u001b[0m \u001b[0mfn\u001b[0m\u001b[0;34m(\u001b[0m\u001b[0;34m*\u001b[0m\u001b[0margs\u001b[0m\u001b[0;34m,\u001b[0m \u001b[0;34m**\u001b[0m\u001b[0mkwargs\u001b[0m\u001b[0;34m)\u001b[0m\u001b[0;34m\u001b[0m\u001b[0;34m\u001b[0m\u001b[0m\n\u001b[0m\u001b[1;32m   2363\u001b[0m             \u001b[0;32mreturn\u001b[0m \u001b[0mresult\u001b[0m\u001b[0;34m\u001b[0m\u001b[0;34m\u001b[0m\u001b[0m\n\u001b[1;32m   2364\u001b[0m \u001b[0;34m\u001b[0m\u001b[0m\n",
      "\u001b[0;32m~/opt/anaconda3/envs/qcmm/lib/python3.6/site-packages/IPython/core/magics/script.py\u001b[0m in \u001b[0;36mnamed_script_magic\u001b[0;34m(line, cell)\u001b[0m\n\u001b[1;32m    140\u001b[0m             \u001b[0;32melse\u001b[0m\u001b[0;34m:\u001b[0m\u001b[0;34m\u001b[0m\u001b[0;34m\u001b[0m\u001b[0m\n\u001b[1;32m    141\u001b[0m                 \u001b[0mline\u001b[0m \u001b[0;34m=\u001b[0m \u001b[0mscript\u001b[0m\u001b[0;34m\u001b[0m\u001b[0;34m\u001b[0m\u001b[0m\n\u001b[0;32m--> 142\u001b[0;31m             \u001b[0;32mreturn\u001b[0m \u001b[0mself\u001b[0m\u001b[0;34m.\u001b[0m\u001b[0mshebang\u001b[0m\u001b[0;34m(\u001b[0m\u001b[0mline\u001b[0m\u001b[0;34m,\u001b[0m \u001b[0mcell\u001b[0m\u001b[0;34m)\u001b[0m\u001b[0;34m\u001b[0m\u001b[0;34m\u001b[0m\u001b[0m\n\u001b[0m\u001b[1;32m    143\u001b[0m \u001b[0;34m\u001b[0m\u001b[0m\n\u001b[1;32m    144\u001b[0m         \u001b[0;31m# write a basic docstring:\u001b[0m\u001b[0;34m\u001b[0m\u001b[0;34m\u001b[0m\u001b[0;34m\u001b[0m\u001b[0m\n",
      "\u001b[0;32m<decorator-gen-110>\u001b[0m in \u001b[0;36mshebang\u001b[0;34m(self, line, cell)\u001b[0m\n",
      "\u001b[0;32m~/opt/anaconda3/envs/qcmm/lib/python3.6/site-packages/IPython/core/magic.py\u001b[0m in \u001b[0;36m<lambda>\u001b[0;34m(f, *a, **k)\u001b[0m\n\u001b[1;32m    185\u001b[0m     \u001b[0;31m# but it's overkill for just that one bit of state.\u001b[0m\u001b[0;34m\u001b[0m\u001b[0;34m\u001b[0m\u001b[0;34m\u001b[0m\u001b[0m\n\u001b[1;32m    186\u001b[0m     \u001b[0;32mdef\u001b[0m \u001b[0mmagic_deco\u001b[0m\u001b[0;34m(\u001b[0m\u001b[0marg\u001b[0m\u001b[0;34m)\u001b[0m\u001b[0;34m:\u001b[0m\u001b[0;34m\u001b[0m\u001b[0;34m\u001b[0m\u001b[0m\n\u001b[0;32m--> 187\u001b[0;31m         \u001b[0mcall\u001b[0m \u001b[0;34m=\u001b[0m \u001b[0;32mlambda\u001b[0m \u001b[0mf\u001b[0m\u001b[0;34m,\u001b[0m \u001b[0;34m*\u001b[0m\u001b[0ma\u001b[0m\u001b[0;34m,\u001b[0m \u001b[0;34m**\u001b[0m\u001b[0mk\u001b[0m\u001b[0;34m:\u001b[0m \u001b[0mf\u001b[0m\u001b[0;34m(\u001b[0m\u001b[0;34m*\u001b[0m\u001b[0ma\u001b[0m\u001b[0;34m,\u001b[0m \u001b[0;34m**\u001b[0m\u001b[0mk\u001b[0m\u001b[0;34m)\u001b[0m\u001b[0;34m\u001b[0m\u001b[0;34m\u001b[0m\u001b[0m\n\u001b[0m\u001b[1;32m    188\u001b[0m \u001b[0;34m\u001b[0m\u001b[0m\n\u001b[1;32m    189\u001b[0m         \u001b[0;32mif\u001b[0m \u001b[0mcallable\u001b[0m\u001b[0;34m(\u001b[0m\u001b[0marg\u001b[0m\u001b[0;34m)\u001b[0m\u001b[0;34m:\u001b[0m\u001b[0;34m\u001b[0m\u001b[0;34m\u001b[0m\u001b[0m\n",
      "\u001b[0;32m~/opt/anaconda3/envs/qcmm/lib/python3.6/site-packages/IPython/core/magics/script.py\u001b[0m in \u001b[0;36mshebang\u001b[0;34m(self, line, cell)\u001b[0m\n\u001b[1;32m    243\u001b[0m             \u001b[0msys\u001b[0m\u001b[0;34m.\u001b[0m\u001b[0mstderr\u001b[0m\u001b[0;34m.\u001b[0m\u001b[0mflush\u001b[0m\u001b[0;34m(\u001b[0m\u001b[0;34m)\u001b[0m\u001b[0;34m\u001b[0m\u001b[0;34m\u001b[0m\u001b[0m\n\u001b[1;32m    244\u001b[0m         \u001b[0;32mif\u001b[0m \u001b[0margs\u001b[0m\u001b[0;34m.\u001b[0m\u001b[0mraise_error\u001b[0m \u001b[0;32mand\u001b[0m \u001b[0mp\u001b[0m\u001b[0;34m.\u001b[0m\u001b[0mreturncode\u001b[0m\u001b[0;34m!=\u001b[0m\u001b[0;36m0\u001b[0m\u001b[0;34m:\u001b[0m\u001b[0;34m\u001b[0m\u001b[0;34m\u001b[0m\u001b[0m\n\u001b[0;32m--> 245\u001b[0;31m             \u001b[0;32mraise\u001b[0m \u001b[0mCalledProcessError\u001b[0m\u001b[0;34m(\u001b[0m\u001b[0mp\u001b[0m\u001b[0;34m.\u001b[0m\u001b[0mreturncode\u001b[0m\u001b[0;34m,\u001b[0m \u001b[0mcell\u001b[0m\u001b[0;34m,\u001b[0m \u001b[0moutput\u001b[0m\u001b[0;34m=\u001b[0m\u001b[0mout\u001b[0m\u001b[0;34m,\u001b[0m \u001b[0mstderr\u001b[0m\u001b[0;34m=\u001b[0m\u001b[0merr\u001b[0m\u001b[0;34m)\u001b[0m\u001b[0;34m\u001b[0m\u001b[0;34m\u001b[0m\u001b[0m\n\u001b[0m\u001b[1;32m    246\u001b[0m \u001b[0;34m\u001b[0m\u001b[0m\n\u001b[1;32m    247\u001b[0m     \u001b[0;32mdef\u001b[0m \u001b[0m_run_script\u001b[0m\u001b[0;34m(\u001b[0m\u001b[0mself\u001b[0m\u001b[0;34m,\u001b[0m \u001b[0mp\u001b[0m\u001b[0;34m,\u001b[0m \u001b[0mcell\u001b[0m\u001b[0;34m,\u001b[0m \u001b[0mto_close\u001b[0m\u001b[0;34m)\u001b[0m\u001b[0;34m:\u001b[0m\u001b[0;34m\u001b[0m\u001b[0;34m\u001b[0m\u001b[0m\n",
      "\u001b[0;31mCalledProcessError\u001b[0m: Command 'b'# Complex assembly\\ntleap -f complex.in\\n# Sanity check\\nambpdb -p complex.prmtop -c complex.inpcrd > complex.pdb\\n'' returned non-zero exit status 1."
     ]
    }
   ],
   "source": [
    "%%bash\n",
    "# Complex assembly\n",
    "tleap -f complex.in\n",
    "# Sanity check\n",
    "ambpdb -p complex.prmtop -c complex.inpcrd > complex.pdb"
   ]
  },
  {
   "cell_type": "code",
   "execution_count": null,
   "metadata": {},
   "outputs": [],
   "source": [
    "%%bash\n",
    "# Solvent minimization\n",
    "sander -O \\\n",
    "    -i em.water.in -o em.water.log -inf /dev/null \\\n",
    "    -p complex.prmtop -c complex.inpcrd \\\n",
    "    -r em.water.rst -ref complex.inpcrd\n",
    "# Sanity check\n",
    "ambpdb -p complex.prmtop -c em.water.rst > em.water.pdb"
   ]
  },
  {
   "cell_type": "code",
   "execution_count": null,
   "metadata": {},
   "outputs": [],
   "source": [
    "%%bash\n",
    "# All atom minimization\n",
    "sander -O \\\n",
    "    -i em.emin.in -o em.emin.log -inf /dev/null \\\n",
    "    -p complex.prmtop -c em.water.rst -ref em.water.rst \\\n",
    "    -x em.emin.nc -r em.emin.rst \n",
    "# Sanity check\n",
    "# ambpdb -p complex.prmtop -c em.emin.rst > em.min.pdb"
   ]
  },
  {
   "cell_type": "code",
   "execution_count": null,
   "metadata": {},
   "outputs": [],
   "source": [
    "%%bash\n",
    "# Graded initial heating\n",
    "sander -O \\\n",
    "    -i em.heat.in -o em.heat.log -inf /dev/null \\\n",
    "    -p complex.prmtop -c em.emin.rst \\\n",
    "    -x em.heat.nc -r em.heat.rst \n",
    "# Sanity check\n",
    "ambpdb -p complex.prmtop -c em.emin.rst > em.heat.pdb"
   ]
  },
  {
   "cell_type": "code",
   "execution_count": null,
   "metadata": {
    "tags": [
     "outputPrepend"
    ]
   },
   "outputs": [],
   "source": [
    "%%bash\n",
    "# Restrained equilibration \n",
    "sander -O \\\n",
    "    -i em.equi.in -o em.equi.log -inf /dev/null \\\n",
    "    -p complex.prmtop -c em.heat.rst -ref em.heat.rst \\\n",
    "    -x em.equi.nc -r em.equi.rst\n",
    "# Sanity check\n",
    "ambpdb -p complex.prmtop -c em.equi.rst > em.equi.pdb"
   ]
  }
 ],
 "metadata": {
  "language_info": {
   "name": "python",
   "codemirror_mode": {
    "name": "ipython",
    "version": 3
   },
   "version": "3.6.10-final"
  },
  "orig_nbformat": 2,
  "file_extension": ".py",
  "mimetype": "text/x-python",
  "name": "python",
  "npconvert_exporter": "python",
  "pygments_lexer": "ipython3",
  "version": 3,
  "kernelspec": {
   "name": "python361064bitqcmmcondac19dda4244fb4a8d8a50fb39055fedc3",
   "display_name": "Python 3.6.10 64-bit ('qcmm': conda)"
  }
 },
 "nbformat": 4,
 "nbformat_minor": 2
}