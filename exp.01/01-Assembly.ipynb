{
 "cells": [
  {
   "cell_type": "code",
   "execution_count": null,
   "metadata": {},
   "outputs": [],
   "source": [
    "# %%bash\n",
    "# # CBGA acid (hand-placed conformer)\n",
    "# !antechamber \\\n",
    "#     -fi pdb -i structures/CBGA.pdb \\\n",
    "#     -fo mol2 -o structures/CBGA.gaff.mol2 \\\n",
    "#     -rn CBG1 -c bcc -at gaff2 -j 4 -pf y\n",
    "# !parmchk2 \\\n",
    "#     -i structures/CBGA.gaff.mol2 \\\n",
    "#     -f mol2 -o CBGA.frcmod -s 2"
   ]
  },
  {
   "cell_type": "code",
   "execution_count": 1,
   "metadata": {
    "tags": []
   },
   "outputs": [
    {
     "output_type": "stream",
     "name": "stdout",
     "text": "\nWelcome to antechamber 17.3: molecular input file processor.\n\nacdoctor mode is on: check and diagnosis problems in the input file.\n-- Check Format for pdb File --\n   Status: pass\n-- Check Unusual Elements --\n   Status: pass\n-- Check Open Valences --\n   Status: pass\n-- Check Geometry --\n      for those bonded   \n      for those not bonded   \n   Status: pass\n-- Check Weird Bonds --\n   Status: pass\n-- Check Number of Units --\n   Status: pass\nacdoctor mode has completed checking the input file.\n\nInfo: Total number of electrons: 196; net charge: -1\n\nRunning: /Users/sethmartinez/opt/anaconda3/envs/qcmm/bin/sqm -O -i sqm.in -o sqm.out\n\n"
    }
   ],
   "source": [
    "%%bash\n",
    "# CBGA carboxylate (hand-placed conformer)\n",
    "antechamber \\\n",
    "    -fi pdb -i ../structures/CBGA.COO.pdb \\\n",
    "    -fo mol2 -o ../structures/CBGA.COO.gaff.mol2 \\\n",
    "    -rn LIG -c bcc -at gaff2 -j 4 -pf y \\\n",
    "    -nc -1\n",
    "parmchk2 \\\n",
    "    -i ../structures/CBGA.COO.gaff.mol2 \\\n",
    "    -f mol2 -o CBGA.COO.frcmod -s 2"
   ]
  },
  {
   "cell_type": "code",
   "execution_count": 2,
   "metadata": {
    "tags": []
   },
   "outputs": [
    {
     "output_type": "stream",
     "name": "stdout",
     "text": "\nWelcome to antechamber 17.3: molecular input file processor.\n\nacdoctor mode is on: check and diagnosis problems in the input file.\n/Users/sethmartinez/opt/anaconda3/envs/qcmm/bin/to_be_dispatched/antechamber: Fatal Error!\nCannot open the input file (structures/FAD.pdb).\nNo such file or directory\nCannot open file (structures/FAD.gaff.mol2) with mode (r).\nNo such file or directory\n"
    },
    {
     "output_type": "error",
     "ename": "CalledProcessError",
     "evalue": "Command 'b'# FAD net fomal charge (-2) pH 5.0\\nantechamber \\\\\\n    -fi pdb -i structures/FAD.pdb \\\\\\n    -fo mol2 -o structures/FAD.gaff.mol2 \\\\\\n    -rn FAD -c bcc -at gaff2 -j 4 -pf y \\\\\\n    -nc -2\\nparmchk2 \\\\\\n    -i structures/FAD.gaff.mol2 \\\\\\n    -f mol2 -o FAD.frcmod -s 2\\n'' returned non-zero exit status 1.",
     "traceback": [
      "\u001b[0;31m---------------------------------------------------------------------------\u001b[0m",
      "\u001b[0;31mCalledProcessError\u001b[0m                        Traceback (most recent call last)",
      "\u001b[0;32m<ipython-input-2-e113a4dffb5b>\u001b[0m in \u001b[0;36m<module>\u001b[0;34m\u001b[0m\n\u001b[0;32m----> 1\u001b[0;31m \u001b[0mget_ipython\u001b[0m\u001b[0;34m(\u001b[0m\u001b[0;34m)\u001b[0m\u001b[0;34m.\u001b[0m\u001b[0mrun_cell_magic\u001b[0m\u001b[0;34m(\u001b[0m\u001b[0;34m'bash'\u001b[0m\u001b[0;34m,\u001b[0m \u001b[0;34m''\u001b[0m\u001b[0;34m,\u001b[0m \u001b[0;34m'# FAD net fomal charge (-2) pH 5.0\\nantechamber \\\\\\n    -fi pdb -i structures/FAD.pdb \\\\\\n    -fo mol2 -o structures/FAD.gaff.mol2 \\\\\\n    -rn FAD -c bcc -at gaff2 -j 4 -pf y \\\\\\n    -nc -2\\nparmchk2 \\\\\\n    -i structures/FAD.gaff.mol2 \\\\\\n    -f mol2 -o FAD.frcmod -s 2\\n'\u001b[0m\u001b[0;34m)\u001b[0m\u001b[0;34m\u001b[0m\u001b[0;34m\u001b[0m\u001b[0m\n\u001b[0m",
      "\u001b[0;32m~/opt/anaconda3/envs/qcmm/lib/python3.6/site-packages/IPython/core/interactiveshell.py\u001b[0m in \u001b[0;36mrun_cell_magic\u001b[0;34m(self, magic_name, line, cell)\u001b[0m\n\u001b[1;32m   2360\u001b[0m             \u001b[0;32mwith\u001b[0m \u001b[0mself\u001b[0m\u001b[0;34m.\u001b[0m\u001b[0mbuiltin_trap\u001b[0m\u001b[0;34m:\u001b[0m\u001b[0;34m\u001b[0m\u001b[0;34m\u001b[0m\u001b[0m\n\u001b[1;32m   2361\u001b[0m                 \u001b[0margs\u001b[0m \u001b[0;34m=\u001b[0m \u001b[0;34m(\u001b[0m\u001b[0mmagic_arg_s\u001b[0m\u001b[0;34m,\u001b[0m \u001b[0mcell\u001b[0m\u001b[0;34m)\u001b[0m\u001b[0;34m\u001b[0m\u001b[0;34m\u001b[0m\u001b[0m\n\u001b[0;32m-> 2362\u001b[0;31m                 \u001b[0mresult\u001b[0m \u001b[0;34m=\u001b[0m \u001b[0mfn\u001b[0m\u001b[0;34m(\u001b[0m\u001b[0;34m*\u001b[0m\u001b[0margs\u001b[0m\u001b[0;34m,\u001b[0m \u001b[0;34m**\u001b[0m\u001b[0mkwargs\u001b[0m\u001b[0;34m)\u001b[0m\u001b[0;34m\u001b[0m\u001b[0;34m\u001b[0m\u001b[0m\n\u001b[0m\u001b[1;32m   2363\u001b[0m             \u001b[0;32mreturn\u001b[0m \u001b[0mresult\u001b[0m\u001b[0;34m\u001b[0m\u001b[0;34m\u001b[0m\u001b[0m\n\u001b[1;32m   2364\u001b[0m \u001b[0;34m\u001b[0m\u001b[0m\n",
      "\u001b[0;32m~/opt/anaconda3/envs/qcmm/lib/python3.6/site-packages/IPython/core/magics/script.py\u001b[0m in \u001b[0;36mnamed_script_magic\u001b[0;34m(line, cell)\u001b[0m\n\u001b[1;32m    140\u001b[0m             \u001b[0;32melse\u001b[0m\u001b[0;34m:\u001b[0m\u001b[0;34m\u001b[0m\u001b[0;34m\u001b[0m\u001b[0m\n\u001b[1;32m    141\u001b[0m                 \u001b[0mline\u001b[0m \u001b[0;34m=\u001b[0m \u001b[0mscript\u001b[0m\u001b[0;34m\u001b[0m\u001b[0;34m\u001b[0m\u001b[0m\n\u001b[0;32m--> 142\u001b[0;31m             \u001b[0;32mreturn\u001b[0m \u001b[0mself\u001b[0m\u001b[0;34m.\u001b[0m\u001b[0mshebang\u001b[0m\u001b[0;34m(\u001b[0m\u001b[0mline\u001b[0m\u001b[0;34m,\u001b[0m \u001b[0mcell\u001b[0m\u001b[0;34m)\u001b[0m\u001b[0;34m\u001b[0m\u001b[0;34m\u001b[0m\u001b[0m\n\u001b[0m\u001b[1;32m    143\u001b[0m \u001b[0;34m\u001b[0m\u001b[0m\n\u001b[1;32m    144\u001b[0m         \u001b[0;31m# write a basic docstring:\u001b[0m\u001b[0;34m\u001b[0m\u001b[0;34m\u001b[0m\u001b[0;34m\u001b[0m\u001b[0m\n",
      "\u001b[0;32m<decorator-gen-110>\u001b[0m in \u001b[0;36mshebang\u001b[0;34m(self, line, cell)\u001b[0m\n",
      "\u001b[0;32m~/opt/anaconda3/envs/qcmm/lib/python3.6/site-packages/IPython/core/magic.py\u001b[0m in \u001b[0;36m<lambda>\u001b[0;34m(f, *a, **k)\u001b[0m\n\u001b[1;32m    185\u001b[0m     \u001b[0;31m# but it's overkill for just that one bit of state.\u001b[0m\u001b[0;34m\u001b[0m\u001b[0;34m\u001b[0m\u001b[0;34m\u001b[0m\u001b[0m\n\u001b[1;32m    186\u001b[0m     \u001b[0;32mdef\u001b[0m \u001b[0mmagic_deco\u001b[0m\u001b[0;34m(\u001b[0m\u001b[0marg\u001b[0m\u001b[0;34m)\u001b[0m\u001b[0;34m:\u001b[0m\u001b[0;34m\u001b[0m\u001b[0;34m\u001b[0m\u001b[0m\n\u001b[0;32m--> 187\u001b[0;31m         \u001b[0mcall\u001b[0m \u001b[0;34m=\u001b[0m \u001b[0;32mlambda\u001b[0m \u001b[0mf\u001b[0m\u001b[0;34m,\u001b[0m \u001b[0;34m*\u001b[0m\u001b[0ma\u001b[0m\u001b[0;34m,\u001b[0m \u001b[0;34m**\u001b[0m\u001b[0mk\u001b[0m\u001b[0;34m:\u001b[0m \u001b[0mf\u001b[0m\u001b[0;34m(\u001b[0m\u001b[0;34m*\u001b[0m\u001b[0ma\u001b[0m\u001b[0;34m,\u001b[0m \u001b[0;34m**\u001b[0m\u001b[0mk\u001b[0m\u001b[0;34m)\u001b[0m\u001b[0;34m\u001b[0m\u001b[0;34m\u001b[0m\u001b[0m\n\u001b[0m\u001b[1;32m    188\u001b[0m \u001b[0;34m\u001b[0m\u001b[0m\n\u001b[1;32m    189\u001b[0m         \u001b[0;32mif\u001b[0m \u001b[0mcallable\u001b[0m\u001b[0;34m(\u001b[0m\u001b[0marg\u001b[0m\u001b[0;34m)\u001b[0m\u001b[0;34m:\u001b[0m\u001b[0;34m\u001b[0m\u001b[0;34m\u001b[0m\u001b[0m\n",
      "\u001b[0;32m~/opt/anaconda3/envs/qcmm/lib/python3.6/site-packages/IPython/core/magics/script.py\u001b[0m in \u001b[0;36mshebang\u001b[0;34m(self, line, cell)\u001b[0m\n\u001b[1;32m    243\u001b[0m             \u001b[0msys\u001b[0m\u001b[0;34m.\u001b[0m\u001b[0mstderr\u001b[0m\u001b[0;34m.\u001b[0m\u001b[0mflush\u001b[0m\u001b[0;34m(\u001b[0m\u001b[0;34m)\u001b[0m\u001b[0;34m\u001b[0m\u001b[0;34m\u001b[0m\u001b[0m\n\u001b[1;32m    244\u001b[0m         \u001b[0;32mif\u001b[0m \u001b[0margs\u001b[0m\u001b[0;34m.\u001b[0m\u001b[0mraise_error\u001b[0m \u001b[0;32mand\u001b[0m \u001b[0mp\u001b[0m\u001b[0;34m.\u001b[0m\u001b[0mreturncode\u001b[0m\u001b[0;34m!=\u001b[0m\u001b[0;36m0\u001b[0m\u001b[0;34m:\u001b[0m\u001b[0;34m\u001b[0m\u001b[0;34m\u001b[0m\u001b[0m\n\u001b[0;32m--> 245\u001b[0;31m             \u001b[0;32mraise\u001b[0m \u001b[0mCalledProcessError\u001b[0m\u001b[0;34m(\u001b[0m\u001b[0mp\u001b[0m\u001b[0;34m.\u001b[0m\u001b[0mreturncode\u001b[0m\u001b[0;34m,\u001b[0m \u001b[0mcell\u001b[0m\u001b[0;34m,\u001b[0m \u001b[0moutput\u001b[0m\u001b[0;34m=\u001b[0m\u001b[0mout\u001b[0m\u001b[0;34m,\u001b[0m \u001b[0mstderr\u001b[0m\u001b[0;34m=\u001b[0m\u001b[0merr\u001b[0m\u001b[0;34m)\u001b[0m\u001b[0;34m\u001b[0m\u001b[0;34m\u001b[0m\u001b[0m\n\u001b[0m\u001b[1;32m    246\u001b[0m \u001b[0;34m\u001b[0m\u001b[0m\n\u001b[1;32m    247\u001b[0m     \u001b[0;32mdef\u001b[0m \u001b[0m_run_script\u001b[0m\u001b[0;34m(\u001b[0m\u001b[0mself\u001b[0m\u001b[0;34m,\u001b[0m \u001b[0mp\u001b[0m\u001b[0;34m,\u001b[0m \u001b[0mcell\u001b[0m\u001b[0;34m,\u001b[0m \u001b[0mto_close\u001b[0m\u001b[0;34m)\u001b[0m\u001b[0;34m:\u001b[0m\u001b[0;34m\u001b[0m\u001b[0;34m\u001b[0m\u001b[0m\n",
      "\u001b[0;31mCalledProcessError\u001b[0m: Command 'b'# FAD net fomal charge (-2) pH 5.0\\nantechamber \\\\\\n    -fi pdb -i structures/FAD.pdb \\\\\\n    -fo mol2 -o structures/FAD.gaff.mol2 \\\\\\n    -rn FAD -c bcc -at gaff2 -j 4 -pf y \\\\\\n    -nc -2\\nparmchk2 \\\\\\n    -i structures/FAD.gaff.mol2 \\\\\\n    -f mol2 -o FAD.frcmod -s 2\\n'' returned non-zero exit status 1."
     ]
    }
   ],
   "source": [
    "%%bash\n",
    "# FAD net fomal charge (-2) pH 5.0\n",
    "antechamber \\\n",
    "    -fi pdb -i ../structures/FAD.pdb \\\n",
    "    -fo mol2 -o ../structures/FAD.gaff.mol2 \\\n",
    "    -rn FAD -c bcc -at gaff2 -j 4 -pf y \\\n",
    "    -nc -2\n",
    "parmchk2 \\\n",
    "    -i ../structures/FAD.gaff.mol2 \\\n",
    "    -f mol2 -o FAD.frcmod -s 2"
   ]
  },
  {
   "cell_type": "code",
   "execution_count": null,
   "metadata": {
    "tags": []
   },
   "outputs": [],
   "source": [
    "%%bash\n",
    "# Complex assembly\n",
    "tleap -f complex.in\n",
    "# Sanity check\n",
    "ambpdb -p complex.prmtop -c complex.inpcrd > complex.pdb"
   ]
  },
  {
   "cell_type": "code",
   "execution_count": null,
   "metadata": {},
   "outputs": [],
   "source": [
    "%%bash\n",
    "# Solvent minimization\n",
    "sander -O \\\n",
    "    -i em.water.in -o em.water.log -inf /dev/null \\\n",
    "    -p complex.prmtop -c complex.inpcrd \\\n",
    "    -r em.water.rst -ref complex.inpcrd\n",
    "# Sanity check\n",
    "ambpdb -p complex.prmtop -c em.water.rst > em.water.pdb"
   ]
  },
  {
   "cell_type": "code",
   "execution_count": null,
   "metadata": {},
   "outputs": [],
   "source": [
    "%%bash\n",
    "# All atom minimization\n",
    "sander -O \\\n",
    "    -i em.emin.in -o em.emin.log -inf /dev/null \\\n",
    "    -p complex.prmtop -c em.water.rst -ref em.water.rst \\\n",
    "    -x em.emin.nc -r em.emin.rst \n",
    "# Sanity check\n",
    "# ambpdb -p complex.prmtop -c em.emin.rst > em.min.pdb"
   ]
  },
  {
   "cell_type": "code",
   "execution_count": null,
   "metadata": {},
   "outputs": [],
   "source": [
    "%%bash\n",
    "# Graded initial heating\n",
    "sander -O \\\n",
    "    -i em.heat.in -o em.heat.log -inf /dev/null \\\n",
    "    -p complex.prmtop -c em.emin.rst \\\n",
    "    -x em.heat.nc -r em.heat.rst \n",
    "# Sanity check\n",
    "ambpdb -p complex.prmtop -c em.emin.rst > em.heat.pdb"
   ]
  },
  {
   "cell_type": "code",
   "execution_count": null,
   "metadata": {
    "tags": [
     "outputPrepend"
    ]
   },
   "outputs": [],
   "source": [
    "%%bash\n",
    "# Restrained equilibration \n",
    "sander -O \\\n",
    "    -i em.equi.in -o em.equi.log -inf /dev/null \\\n",
    "    -p complex.prmtop -c em.heat.rst -ref em.heat.rst \\\n",
    "    -x em.equi.nc -r em.equi.rst\n",
    "# Sanity check\n",
    "ambpdb -p complex.prmtop -c em.equi.rst > em.equi.pdb"
   ]
  }
 ],
 "metadata": {
  "language_info": {
   "name": "python",
   "codemirror_mode": {
    "name": "ipython",
    "version": 3
   },
   "version": "3.6.10-final"
  },
  "orig_nbformat": 2,
  "file_extension": ".py",
  "mimetype": "text/x-python",
  "name": "python",
  "npconvert_exporter": "python",
  "pygments_lexer": "ipython3",
  "version": 3,
  "kernelspec": {
   "name": "python361064bitqcmmcondac19dda4244fb4a8d8a50fb39055fedc3",
   "display_name": "Python 3.6.10 64-bit ('qcmm': conda)"
  }
 },
 "nbformat": 4,
 "nbformat_minor": 2
}