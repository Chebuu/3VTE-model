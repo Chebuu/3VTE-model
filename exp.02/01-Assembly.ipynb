{
 "metadata": {
  "language_info": {
   "codemirror_mode": {
    "name": "ipython",
    "version": 3
   },
   "file_extension": ".py",
   "mimetype": "text/x-python",
   "name": "python",
   "nbconvert_exporter": "python",
   "pygments_lexer": "ipython3",
   "version": "3.6.11-final"
  },
  "orig_nbformat": 2,
  "kernelspec": {
   "name": "Python 3.6.11 64-bit ('qcmm': conda)",
   "display_name": "Python 3.6.11 64-bit ('qcmm': conda)",
   "metadata": {
    "interpreter": {
     "hash": "e48c9bfdccfbfe7b296ff3c837069cd72899fd94f29d974904d2d6b5927ea76d"
    }
   }
  }
 },
 "nbformat": 4,
 "nbformat_minor": 2,
 "cells": [
  {
   "cell_type": "code",
   "execution_count": null,
   "metadata": {
    "tags": []
   },
   "outputs": [],
   "source": [
    "!obabel \\\n",
    "    -imol2 ../structures/CBGA.COO.DOCK.1.61.mol2 \\\n",
    "    -osdf > LIG.sdf\n",
    "!obabel \\\n",
    "    -imol2 ../structures/CBGA.COO.DOCK.1.61.mol2 \\\n",
    "    -opdb > LIG.pdb"
   ]
  },
  {
   "cell_type": "code",
   "execution_count": null,
   "metadata": {
    "tags": []
   },
   "outputs": [],
   "source": [
    "import mdtraj as md\n",
    "from Bio.PDB import PDBList\n",
    "\n",
    "pdbl = PDBList()\n",
    "pdbl.download_pdb_files(['3vte'], pdir='./', file_format='pdb')\n",
    "\n",
    "# # Extract components and save with mdtraj\n",
    "trj3VTE = md.load_pdb('pdb3vte.ent')\n",
    "\n",
    "# Holo-enzyme\n",
    "trj3VTE_holo = trj3VTE.atom_slice(\n",
    "    trj3VTE.top.select('not water'))\n",
    "trj3VTE_holo.save_pdb('3vte_holo.pdb')\n",
    "\n",
    "# Apo-form\n",
    "trj3VTE_apo = trj3VTE.atom_slice(\n",
    "    trj3VTE.top.select('protein'))\n",
    "trj3VTE_apo.save_pdb('3vte_apo.pdb')\n",
    "\n",
    "# FAD extracted\n",
    "trjFAD = trj3VTE.atom_slice(\n",
    "    trj3VTE.top.select('resname FAD'))\n",
    "trjFAD.save_pdb('FAD_ext.pdb')   \n",
    "\n",
    "# # NAG extracted\n",
    "# trjNAG = trj3VTE.atom_slice(\n",
    "#     trj3VTE.top.select('resname NAG'))\n",
    "# trjNAG.save_pdb('NAG_ext.pdb')    "
   ]
  },
  {
   "cell_type": "code",
   "execution_count": null,
   "metadata": {},
   "outputs": [],
   "source": [
    "from pdbfixer import *\n",
    "from simtk.openmm.app import PDBFile\n",
    "\n",
    "fixer = PDBFixer('3vte_apo.pdb')\n",
    "fixer.findMissingResidues()\n",
    "fixer.findNonstandardResidues()\n",
    "fixer.replaceNonstandardResidues()\n",
    "fixer.findMissingAtoms()\n",
    "fixer.addMissingAtoms()\n",
    "fixer.addMissingHydrogens(5.2)\n",
    "\n",
    "with open('3vte_apo_fxd.pdb', 'w+') as outfile:\n",
    "    PDBFile.writeFile(\n",
    "        fixer.topology, fixer.positions, outfile)"
   ]
  },
  {
   "cell_type": "code",
   "execution_count": null,
   "metadata": {
    "tags": []
   },
   "outputs": [],
   "source": [
    "%%capture\n",
    "!obabel -ipdb FAD_ext.pdb -osdf > FAD_ext.sdf\n",
    "# !obabel -ipdb NAG_ext.pdb -osdf > NAG_ext.sdf"
   ]
  },
  {
   "cell_type": "code",
   "execution_count": null,
   "metadata": {
    "tags": []
   },
   "outputs": [],
   "source": [
    "import parmed as pmd\n",
    "\n",
    "from simtk import openmm, unit\n",
    "from simtk.openmm import app, LangevinIntegrator\n",
    "from simtk.openmm.app import PDBFile, NoCutoff, HBonds\n",
    "\n",
    "from openforcefield.topology import Molecule\n",
    "from openmmforcefields.generators import SystemGenerator\n",
    "from openforcefield.typing.engines.smirnoff import ForceField\n",
    "\n",
    "# # Load Amber force fields\n",
    "omm3VTE_ff = app.ForceField('Amber14-all.xml')\n",
    "# omm3VTE_ff.registerTemplatePatch(residue, patch, ...)\n",
    "\n",
    "# Parameterize apo-protein\n",
    "omm3VTE = PDBFile('3vte_apo_fxd.pdb')\n",
    "receptor_system = omm3VTE_ff.createSystem(omm3VTE.topology)\n",
    "pmd3VTE = pmd.openmm.load_topology(\n",
    "    omm3VTE.topology,\n",
    "    receptor_system,\n",
    "    xyz=omm3VTE.positions)\n",
    "\n",
    "# # # Parameterize NAG glycosylations\n",
    "# ommNAG = PDBFile('NAG_ext.pdb')\n",
    "# glycosyl_system = mm3VTE_ff.createSystem(ommNAG.topology)\n",
    "# pmdNAG = pmd.openmm.load_topology(\n",
    "#     ommNAG.topology,\n",
    "#     glycosyl_system,\n",
    "#     xyz=ommNAG.positions)\n",
    "\n",
    "# # Load Parsley force field\n",
    "offLIG_ff = ForceField('openff_unconstrained-1.2.1.offxml')\n",
    "\n",
    "# # Parameterize FAD cofactor\n",
    "# ommFAD = PDBFile('FAD_ext.pdb')\n",
    "# molFAD = Molecule('FAD_ext.sdf')\n",
    "# cofactor_system = offLIG_ff.create_openmm_system(\n",
    "#     molFAD.to_topology())\n",
    "# pmdFAD = pmd.openmm.load_topology(\n",
    "#     ommFAD.topology,\n",
    "#     cofactor_system,\n",
    "#     xyz=ommFAD.positions)\n",
    "\n",
    "# Parameterize CBGA substrate\n",
    "ommCBGA = PDBFile('LIG.pdb')\n",
    "molCBGA = Molecule('LIG.sdf')\n",
    "ligand_system = offLIG_ff.create_openmm_system(\n",
    "    molCBGA.to_topology())\n",
    "pmdCBGA = pmd.openmm.load_topology(\n",
    "    ommCBGA.topology,\n",
    "    ligand_system,\n",
    "    xyz=ommCBGA.positions)"
   ]
  },
  {
   "cell_type": "code",
   "execution_count": null,
   "metadata": {},
   "outputs": [],
   "source": [
    "# # Assemble holo-enzyme with docked substrate\n",
    "# pmdCPLX = pmd3VTE + pmdMNAG + pmdFAD + pmdCBGA \n",
    "# pmdCPLX = pmd3VTE + pmdFAD + pmdCBGA\n",
    "pmdCPLX = pmd3VTE + pmdCBGA \n",
    "pmdCPLX.visualize()"
   ]
  },
  {
   "cell_type": "code",
   "execution_count": null,
   "metadata": {},
   "outputs": [],
   "source": [
    "# # Convert structure to OpenMM\n",
    "# complex_system = pmdCPLX.createSystem(\n",
    "#     nonbondedMethod=NoCutoff,\n",
    "#     nonbondedCutoff=9.0*unit.angstrom,\n",
    "#     constraints=HBonds)"
   ]
  },
  {
   "cell_type": "code",
   "execution_count": null,
   "metadata": {},
   "outputs": [],
   "source": [
    "# CHARMM-GUI Glycan modeller \n",
    "# # Job ID: 0147660438\n",
    "CGUI_JOBID = '0147660438'\n",
    "CGUI_SLUG = f'../structures/jobid-{CGUI_JOBID}/'  \n",
    "\n",
    "pmd.charmm.CharmmPsfFile\n",
    "    .load_parameters(CharmmParameterSet)\n",
    "    .prune_empty_terms()\n",
    "    .to_dataframe()\n",
    "    .omm_set_virtual_sites()\n",
    "    .createSystem()\n",
    "pmd.charmm.CharmmCrdFile\n",
    "\n",
    "system = psf.createSystem(\n",
    "    params=params, nonbondedMethod=NoCutoff,\n",
    "    nonbondedCutoff=1*nanometer, constraints=HBonds)\n",
    "simulation = Simulation(model.topology, system, integrator)\n",
    "simulation.context.setPositions(model.positions)\n"
   ]
  },
  {
   "cell_type": "code",
   "execution_count": null,
   "metadata": {},
   "outputs": [],
   "source": [
    "# Load holo-enzyme\n",
    "# Load CHARMM files\n",
    "FADPAR = CGUI_SLUG + 'fad/'\n",
    "TOPPAR = CGUI_SLUG + toppar/'\n",
    "\n",
    "# # Unicode error\n",
    "# hhoRST_pat = 'em.water.rst'\n",
    "# with open(hhoRST_path, 'r', encoding='ISO-8859-1') as wfile:\n",
    "#     app.charmmcrdfiles.CharmmRstFile(wfile.read())\n",
    "\n",
    "psf = CharmmPsfFile(CGUI_SLUG + 'step1_pdbreader.psf')\n",
    "pdb = PDBFile(CGUI_SLUG + 'step1_pdbreader.pdb')\n",
    "\n",
    "parset = [TOPPAR + f for f in os.listdir(TOPPAR)] + [FADPAR + f for f in ['fad.prm', 'fad_g.rtf', 'fad.rtf', 'ndihe.str']]\n",
    "params = CharmmParameterSet(*parset)\n",
    "psf.loadParameters(params)"
   ]
  },
  {
   "cell_type": "code",
   "execution_count": null,
   "metadata": {},
   "outputs": [],
   "source": [
    "# Minimization\n",
    "integrator = LangevinIntegrator(\n",
    "    300*unit.kelvin, \n",
    "    1/unit.picosecond, \n",
    "    0.002*unit.picoseconds)\n",
    "\n",
    "simulation = app.Simulation(pmdCPLX.topology, complex_system, integrator)\n",
    "simulation.context.setPositions(pmdCPLX.positions)\n",
    "simulation.minimizeEnergy()"
   ]
  },
  {
   "cell_type": "code",
   "execution_count": null,
   "metadata": {},
   "outputs": [],
   "source": []
  }
 ]
}