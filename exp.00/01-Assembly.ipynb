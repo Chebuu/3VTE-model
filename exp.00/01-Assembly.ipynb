{
 "cells": [
  {
   "cell_type": "code",
   "execution_count": null,
   "metadata": {},
   "outputs": [],
   "source": [
    "%%bash\n",
    "# CBGA carboxylate (docked conformer)\n",
    "antechamber \\\n",
    "    -fi pdb -i ../structures/CBGA.COO.DOCK.1.61.pdb \\\n",
    "    -fo mol2 -o ../structures/CBGA.COO.gaff.mol2 \\\n",
    "    -rn LIG -c bcc -at gaff2 -j 4 -pf y \\\n",
    "    -nc -1\n",
    "parmchk2 \\\n",
    "    -i ../structures/CBGA.COO.gaff.mol2 \\\n",
    "    -f mol2 -o CBGA.COO.frcmod -s 2"
   ]
  },
  {
   "cell_type": "code",
   "execution_count": null,
   "metadata": {},
   "outputs": [],
   "source": [
    "%%bash\n",
    "# FAD net formal charge (-2) pH 5.0\n",
    "antechamber \\\n",
    "    -fi pdb -i ../structures/FAD.pdb \\\n",
    "    -fo mol2 -o ../structures/FAD.gaff.mol2 \\\n",
    "    -rn FAD -c bcc -at gaff2 -j 4 -pf y \\\n",
    "    -nc -2\n",
    "parmchk2 \\\n",
    "    -i ../structures/FAD.gaff.mol2 \\\n",
    "    -f mol2 -o FAD.frcmod -s 2"
   ]
  },
  {
   "cell_type": "code",
   "execution_count": null,
   "metadata": {
    "tags": [
     "outputPrepend"
    ]
   },
   "outputs": [],
   "source": [
    "%%bash\n",
    "# Complex assembly\n",
    "tleap -f complex.in\n",
    "# Sanity check\n",
    "ambpdb -p complex.prmtop -c complex.inpcrd > complex.pdb"
   ]
  },
  {
   "cell_type": "code",
   "execution_count": null,
   "metadata": {},
   "outputs": [],
   "source": [
    "%%bash\n",
    "# Solvent minimization\n",
    "sander -O \\\n",
    "    -i em.water.in -o em.water.log -inf /dev/null \\\n",
    "    -p complex.prmtop -c complex.inpcrd \\\n",
    "    -r em.water.rst -ref complex.inpcrd\n",
    "# Sanity check\n",
    "ambpdb -p complex.prmtop -c em.water.rst > em.water.pdb"
   ]
  },
  {
   "cell_type": "code",
   "execution_count": null,
   "metadata": {},
   "outputs": [],
   "source": [
    "%%bash\n",
    "# All atom minimization\n",
    "sander -O \\\n",
    "    -i em.emin.in -o em.emin.log -inf /dev/null \\\n",
    "    -p complex.prmtop -c em.water.rst -ref em.water.rst \\\n",
    "    -x em.emin.nc -r em.emin.rst \n",
    "# Sanity check\n",
    "ambpdb -p complex.prmtop -c em.emin.rst > em.min.pdb"
   ]
  },
  {
   "cell_type": "code",
   "execution_count": null,
   "metadata": {},
   "outputs": [],
   "source": [
    "%%bash\n",
    "# Graded initial heating\n",
    "sander -O \\\n",
    "    -i em.heat.in -o em.heat.log -inf /dev/null \\\n",
    "    -p complex.prmtop -c em.emin.rst \\\n",
    "    -x em.heat.nc -r em.heat.rst \n",
    "# Sanity check\n",
    "ambpdb -p complex.prmtop -c em.emin.rst > em.heat.pdb"
   ]
  },
  {
   "cell_type": "code",
   "execution_count": null,
   "metadata": {
    "tags": [
     "outputPrepend"
    ]
   },
   "outputs": [],
   "source": [
    "%%bash\n",
    "# Restrained equilibration \n",
    "sander -O \\\n",
    "    -i em.equi.in -o em.equi.log -inf /dev/null \\\n",
    "    -p complex.prmtop -c em.heat.rst -ref em.heat.rst \\\n",
    "    -x em.equi.nc -r em.equi.rst\n",
    "# Sanity check\n",
    "ambpdb -p complex.prmtop -c em.equi.rst > em.equi.pdb"
   ]
  }
 ],
 "metadata": {
  "language_info": {
   "name": "python",
   "codemirror_mode": {
    "name": "ipython",
    "version": 3
   },
   "version": "3.6.10-final"
  },
  "orig_nbformat": 2,
  "file_extension": ".py",
  "mimetype": "text/x-python",
  "name": "python",
  "npconvert_exporter": "python",
  "pygments_lexer": "ipython3",
  "version": 3,
  "kernelspec": {
   "name": "python361064bitqcmmcondac19dda4244fb4a8d8a50fb39055fedc3",
   "display_name": "Python 3.6.10 64-bit ('qcmm': conda)"
  }
 },
 "nbformat": 4,
 "nbformat_minor": 2
}